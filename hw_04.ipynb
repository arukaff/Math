{
  "cells": [
    {
      "cell_type": "markdown",
      "metadata": {
        "id": "view-in-github",
        "colab_type": "text"
      },
      "source": [
        "<a href=\"https://colab.research.google.com/github/arukaff/Math/blob/main/hw_04.ipynb\" target=\"_parent\"><img src=\"https://colab.research.google.com/assets/colab-badge.svg\" alt=\"Open In Colab\"/></a>"
      ]
    },
    {
      "cell_type": "markdown",
      "id": "45af184f",
      "metadata": {
        "id": "45af184f"
      },
      "source": [
        "# Урок 4"
      ]
    },
    {
      "cell_type": "markdown",
      "id": "1eb32e57",
      "metadata": {
        "id": "1eb32e57"
      },
      "source": [
        "# Линейные преобразования"
      ]
    },
    {
      "cell_type": "markdown",
      "id": "f7cfc954",
      "metadata": {
        "id": "f7cfc954"
      },
      "source": [
        "## Практическое задание"
      ]
    },
    {
      "cell_type": "markdown",
      "id": "94f47117",
      "metadata": {
        "id": "94f47117"
      },
      "source": [
        "__1.__ Найдите собственные векторы и собственные значения для линейного оператора, заданного матрицей:\n",
        "\n",
        "$$A=\\begin{pmatrix}\n",
        "-1 & -6\\\\\n",
        "2 & 6\n",
        "\\end{pmatrix}.$$"
      ]
    },
    {
      "cell_type": "markdown",
      "id": "cba9f43a",
      "metadata": {
        "id": "cba9f43a"
      },
      "source": [
        "__Решение__\n",
        "\n",
        "$$A=\\begin{pmatrix}\n",
        "-1 & -6\\\\\n",
        "2 & 6\n",
        "\\end{pmatrix}.$$\n",
        "\n",
        "Векторы коэффициентов разложения векторов $g_{i}$ по базису задают столбцы матрицы линейного оператора. Тогда базисные векторы преобразуются следующим образом:\n",
        "\n",
        "$$Ae_{1}=-1\\cdot e_{1}+2\\cdot e_{2},$$\n",
        "\n",
        "$$Ae_{2}=-6 \\cdot e_{1}+6 \\cdot e_{2}.$$"
      ]
    },
    {
      "cell_type": "markdown",
      "id": "1b9a770b",
      "metadata": {
        "id": "1b9a770b"
      },
      "source": [
        "Теперь найдём собственные значения линейного оператора, составив и решив характеристическое уравнение:\n",
        "\n",
        "$$\\begin{vmatrix}\n",
        "-1-\\lambda & -6\\\\\n",
        "2 & 6-\\lambda\n",
        "\\end{vmatrix} = 0,$$\n",
        "\n",
        "$$(-1-\\lambda)(6-\\lambda)+2\\cdot6=0,$$\n",
        "\n",
        "$$\\lambda^{2} -5\\lambda + 6 = 0,$$\n",
        "\n",
        "$$D = 1$$\n",
        "\n",
        "$$\\lambda_{1,2} = \\frac{ 5 \\pm \\sqrt{1}} {2}$$\n",
        "\n",
        "$$\\lambda_1 = 3$$\n",
        "\n",
        "$$\\lambda_2 = 2$$"
      ]
    },
    {
      "cell_type": "markdown",
      "id": "f900d657",
      "metadata": {
        "id": "f900d657"
      },
      "source": [
        "Для $\\lambda_1 = 3$\n",
        "\n",
        "Найдём собственные векторы вида $\\begin{pmatrix}\n",
        "x_{1}\\\\\n",
        "x_{2}\n",
        "\\end{pmatrix}$, подставив полученное собственное значение в выражение $\\textbf{A}x=\\lambda x$:\n",
        "\n",
        "$$\\begin{pmatrix}\n",
        "-1 & -6\\\\\n",
        "2 & 6\n",
        "\\end{pmatrix}\n",
        "\\begin{pmatrix}\n",
        "x_{1}\\\\\n",
        "x_{2}\n",
        "\\end{pmatrix}=\n",
        "\\lambda\n",
        "\\begin{pmatrix}\n",
        "x_{1}\\\\\n",
        "x_{2}\n",
        "\\end{pmatrix}.\n",
        "$$"
      ]
    },
    {
      "cell_type": "markdown",
      "id": "415a9751",
      "metadata": {
        "id": "415a9751"
      },
      "source": [
        "Получим:\n",
        "\n",
        "$$\\begin{cases}\n",
        "-x_{1}-6x_{2}= 3 \\cdot x_{1}, \\\\\n",
        "2 \\cdot x_{1}+6 \\cdot x_{2}= 3 \\cdot x_{2}.\n",
        "\\end{cases}$$\n",
        "\n",
        "$$\\begin{cases}\n",
        "x_{1}= -\\frac{3x_2}{2}, \\\\\n",
        "x_{2}= -\\frac{2x_1}{3}.\n",
        "\\end{cases}$$\n",
        "\n",
        "__Таким образом, получается, придавая переменной y произвольные значения, получаем бесконечное множество собственных веторов, которые коллинеарны друг другу. Например, возьмем произвольные знанения, x1 = -3, тогда x2 = 2__\n",
        "\n",
        "$$\\begin{cases}\n",
        "x_{1}= -3, \\\\\n",
        "x_{2}= 2.\n",
        "\\end{cases}$$\n",
        "\n",
        "__Ниже, с помощью модуля np.linalg.eig подобраны значения:__\n",
        "\n",
        "$$\\begin{cases}\n",
        "x_{1}= 0.8321, \\\\\n",
        "x_{2}= -0.5547.\n",
        "\\end{cases}$$\n",
        "\n"
      ]
    },
    {
      "cell_type": "markdown",
      "id": "91826e88",
      "metadata": {
        "id": "91826e88"
      },
      "source": [
        "Для $\\lambda_2 = 2$\n",
        "\n",
        "Найдём собственные векторы вида $\\begin{pmatrix}\n",
        "x_{1}\\\\\n",
        "x_{2}\n",
        "\\end{pmatrix}$, подставив полученное собственное значение в выражение $\\textbf{A}x=\\lambda x$:\n",
        "\n",
        "$$\\begin{pmatrix}\n",
        "-1 & -6\\\\\n",
        "2 & 6\n",
        "\\end{pmatrix}\n",
        "\\begin{pmatrix}\n",
        "x_{1}\\\\\n",
        "x_{2}\n",
        "\\end{pmatrix}=\n",
        "\\lambda\n",
        "\\begin{pmatrix}\n",
        "x_{1}\\\\\n",
        "x_{2}\n",
        "\\end{pmatrix}.\n",
        "$$"
      ]
    },
    {
      "cell_type": "markdown",
      "id": "5b750b39",
      "metadata": {
        "id": "5b750b39"
      },
      "source": [
        "Получим:\n",
        "\n",
        "$$\\begin{cases}\n",
        "-x_{1}-6x_{2}= 2 \\cdot x_{1}, \\\\\n",
        "2 \\cdot x_{1}+6 \\cdot x_{2}= 2 \\cdot x_{2}.\n",
        "\\end{cases}$$\n",
        "\n",
        "$$\\begin{cases}\n",
        "x_{1}= -2{x_2}, \\\\\n",
        "x_{2}= -\\frac{x_1}{2}.\n",
        "\\end{cases}$$\n",
        "\n",
        "__Таким образом, получается, придавая переменной y произвольные значения, получаем бесконечное множество собственных веторов, которые коллинеарны друг другу. Например, возьмем произвольные знанения, x1 = -2, тогда x2 = 1__\n",
        "\n",
        "$$\\begin{cases}\n",
        "x_{1}= -2, \\\\\n",
        "x_{2}= 1.\n",
        "\\end{cases}$$\n",
        "\n",
        "__Ниже, с помощью модуля np.linalg.eig подобраны значения:__\n",
        "\n",
        "$$\\begin{cases}\n",
        "x_{1}= -0.8944, \\\\\n",
        "x_{2}= 0.4472.\n",
        "\\end{cases}$$\n",
        "\n"
      ]
    },
    {
      "cell_type": "code",
      "execution_count": 3,
      "id": "aebc03ca",
      "metadata": {
        "id": "aebc03ca"
      },
      "outputs": [],
      "source": [
        "import numpy as np\n",
        "\n",
        "np.set_printoptions(precision=4, suppress=True)"
      ]
    },
    {
      "cell_type": "code",
      "execution_count": 4,
      "id": "c2c112e1",
      "metadata": {
        "id": "c2c112e1",
        "outputId": "33a7a7ef-2344-4228-9ebf-0d6d336e9449",
        "colab": {
          "base_uri": "https://localhost:8080/"
        }
      },
      "outputs": [
        {
          "output_type": "stream",
          "name": "stdout",
          "text": [
            "Матрица A:\n",
            "[[-1 -6]\n",
            " [ 2  6]]\n",
            "Собственные значения:\n",
            "[2. 3.]\n",
            "Собственные векторы:\n",
            "[[-0.8944  0.8321]\n",
            " [ 0.4472 -0.5547]]\n"
          ]
        }
      ],
      "source": [
        "a = np.array([[-1, -6], [2, 6]])\n",
        "w, v = np.linalg.eig(a)\n",
        "\n",
        "print(f'Матрица A:\\n{a}')\n",
        "print(f'Собственные значения:\\n{w}')\n",
        "print(f'Собственные векторы:\\n{v}')"
      ]
    },
    {
      "cell_type": "code",
      "source": [
        "import matplotlib.pyplot as plt\n",
        "fig = plt.figure()\n",
        "ax = fig.add_subplot(1,1,1)\n",
        "ax.spines['left'].set_position('zero')\n",
        "ax.spines['bottom'].set_position('zero')\n",
        "ax.spines['right'].set_color('none')\n",
        "ax.spines['top'].set_color('none')\n",
        "plt.axis('scaled')\n",
        "plt.xlim(-2, 2)\n",
        "plt.ylim(-2, 2)\n",
        "ax.arrow(0, 0, 0, 1, head_width=0.15, head_length=0.2,\n",
        "length_includes_head=True, facecolor='black')\n",
        "ax.arrow(0, 0, 1, 0, head_width=0.15, head_length=0.2,\n",
        "length_includes_head=True, facecolor='black')\n",
        "ax.annotate(\"e1\", xy=(0.8, 0.2))\n",
        "ax.annotate(\"e2\", xy=(0.2, 0.8))\n",
        "plt.show()"
      ],
      "metadata": {
        "colab": {
          "base_uri": "https://localhost:8080/",
          "height": 420
        },
        "id": "sT8IqD-gchFw",
        "outputId": "632a3ff4-7965-4626-daa9-2cffd65c20b7"
      },
      "id": "sT8IqD-gchFw",
      "execution_count": 3,
      "outputs": [
        {
          "output_type": "display_data",
          "data": {
            "text/plain": [
              "<Figure size 640x480 with 1 Axes>"
            ],
            "image/png": "[encoded data removed]"
          },
          "metadata": {}
        }
      ]
    },
    {
      "cell_type": "code",
      "source": [
        "import matplotlib.pyplot as plt\n",
        "fig = plt.figure()\n",
        "ax = fig.add_subplot(1,1,1)\n",
        "ax.spines['left'].set_position('zero')\n",
        "ax.spines['bottom'].set_position('zero')\n",
        "ax.spines['right'].set_color('none')\n",
        "ax.spines['top'].set_color('none')\n",
        "plt.axis('scaled')\n",
        "plt.xlim(-2, 2)\n",
        "plt.ylim(-2, 2)\n",
        "ax.arrow(0, 0, 0, 1, head_width=0.15, head_length=0.2,\n",
        "length_includes_head=True, facecolor='black')\n",
        "ax.arrow(0, 0, -1, 0, head_width=0.15, head_length=0.2,\n",
        "length_includes_head=True, facecolor='black')\n",
        "ax.annotate(\"e2\", xy=(-0.8, 0.3))\n",
        "ax.annotate(\"e1\", xy=(0.2, 0.8))\n",
        "plt.show()\n"
      ],
      "metadata": {
        "colab": {
          "base_uri": "https://localhost:8080/",
          "height": 420
        },
        "id": "WY8gqEu8c6Mh",
        "outputId": "453c4357-940b-4c44-b119-7669f5e44839"
      },
      "id": "WY8gqEu8c6Mh",
      "execution_count": 5,
      "outputs": [
        {
          "output_type": "display_data",
          "data": {
            "text/plain": [
              "<Figure size 640x480 with 1 Axes>"
            ],
            "image/png": "[encoded data removed]"
          },
          "metadata": {}
        }
      ]
    },
    {
      "cell_type": "code",
      "source": [
        "import matplotlib.pyplot as plt\n",
        "fig = plt.figure()\n",
        "ax = fig.add_subplot(1,1,1)\n",
        "ax.spines['left'].set_position('zero')\n",
        "ax.spines['bottom'].set_position('zero')\n",
        "ax.spines['right'].set_color('none')\n",
        "ax.spines['top'].set_color('none')\n",
        "plt.axis('scaled')\n",
        "plt.xlim(-2, 2)\n",
        "plt.ylim(-2, 2)\n",
        "ax.arrow(0, 0, 0, 2, head_width=0.15, head_length=0.2,\n",
        "length_includes_head=True, facecolor='black')\n",
        "ax.arrow(0, 0, 1, 0, head_width=0.15, head_length=0.2,\n",
        "length_includes_head=True, facecolor='black')\n",
        "ax.annotate(\"e1\", xy=(0.8, 0.3))\n",
        "ax.annotate(\"e2\", xy=(0.2, 1.8))\n",
        "plt.show()\n"
      ],
      "metadata": {
        "colab": {
          "base_uri": "https://localhost:8080/",
          "height": 420
        },
        "id": "z95HZ_c7dsPP",
        "outputId": "b0b5042a-c367-4391-e57d-f542f04113ff"
      },
      "id": "z95HZ_c7dsPP",
      "execution_count": 6,
      "outputs": [
        {
          "output_type": "display_data",
          "data": {
            "text/plain": [
              "<Figure size 640x480 with 1 Axes>"
            ],
            "image/png": "[encoded data removed]"
          },
          "metadata": {}
        }
      ]
    },
    {
      "cell_type": "markdown",
      "id": "8d50b48c",
      "metadata": {
        "id": "8d50b48c"
      },
      "source": [
        "__2.__ Дан оператор поворота на 180 градусов, задаваемый матрицей:\n",
        "\n",
        "$$A=\\begin{pmatrix}\n",
        "-1 & 0\\\\\n",
        "0 & -1\n",
        "\\end{pmatrix}.$$\n",
        "\n",
        "Покажите, что __любой__ вектор считается для него собственным."
      ]
    },
    {
      "cell_type": "markdown",
      "id": "be6fcb6c",
      "metadata": {
        "id": "be6fcb6c"
      },
      "source": [
        "__Решение__\n",
        "\n",
        "$$A=\\begin{pmatrix}\n",
        "-1 & 0\\\\\n",
        "0 & -1\n",
        "\\end{pmatrix}.$$\n",
        "\n",
        "Найдем собственные значения:\n",
        "\n",
        "$$\\begin{vmatrix}\n",
        "-1-\\lambda & 0\\\\\n",
        "0 & -1-\\lambda\n",
        "\\end{vmatrix} = 0,$$\n",
        "\n",
        "$$(-1-\\lambda)(-1-\\lambda)- 0=0,$$\n",
        "\n",
        "$$(-1-\\lambda)^2 =0,$$\n",
        "\n",
        "$$-1-\\lambda =0,$$\n",
        "\n",
        "$$\\lambda =-1,$$\n",
        "\n",
        "Найдём собственные векторы вида $\\begin{pmatrix}\n",
        "x_{1}\\\\\n",
        "x_{2}\n",
        "\\end{pmatrix}$, подставив полученное собственное значение в выражение $\\textbf{A}x=\\lambda x$:\n",
        "$$\\begin{pmatrix}\n",
        "-1 & 0\\\\\n",
        "0 & -1\n",
        "\\end{pmatrix}\n",
        "\\begin{pmatrix}\n",
        "x_{1}\\\\\n",
        "x_{2}\n",
        "\\end{pmatrix}=\n",
        "-1\n",
        "\\begin{pmatrix}\n",
        "x_{1}\\\\\n",
        "x_{2}\n",
        "\\end{pmatrix}.\n",
        "$$\n",
        "Получим:\n",
        "\n",
        "$$\\begin{cases}\n",
        "-1 \\cdot x_{1}+ 0 \\cdot x_{2}= -1 \\cdot x_{1}, \\\\\n",
        "0 \\cdot x_{1}-1 \\cdot x_{2}= -1 \\cdot x_{2}.\n",
        "\\end{cases}$$\n",
        "\n",
        "$$\\begin{cases}\n",
        "-x_{1}= -x_{1}, \\\\\n",
        "-x_{2}= -x_{2}.\n",
        "\\end{cases}$$\n",
        "\n",
        "__Так как в данную систему мы можем подставить абсолютно любые значения x1 и x2, соответственно для данной системы подходит любой вектор, с любыми координатами. Таким образом, любой вектор будет считаться собственным для оператора поворота на 180 градусов, что логично, так как поворот на 180 градусов - это поворот в противоположное направление (все вектора сохраняют свое местоположение, только становятся направлены в противоположную сторону (умножаются на -1), при этом коллинеарность сохраняется).__"
      ]
    },
    {
      "cell_type": "markdown",
      "id": "2b7d0bce",
      "metadata": {
        "id": "2b7d0bce"
      },
      "source": [
        "Найдём собственные векторы вида $\\begin{pmatrix}\n",
        "x_{1}\\\\\n",
        "x_{2}\n",
        "\\end{pmatrix}$, подставив полученное собственное значение в выражение $\\textbf{A}x=\\lambda x$:"
      ]
    },
    {
      "cell_type": "markdown",
      "id": "5a50acd6",
      "metadata": {
        "id": "5a50acd6"
      },
      "source": [
        "$$\\begin{pmatrix}\n",
        "-1 & 0\\\\\n",
        "0 & -1\n",
        "\\end{pmatrix}\n",
        "\\begin{pmatrix}\n",
        "x_{1}\\\\\n",
        "x_{2}\n",
        "\\end{pmatrix}=\n",
        "-1\n",
        "\\begin{pmatrix}\n",
        "x_{1}\\\\\n",
        "x_{2}\n",
        "\\end{pmatrix}.\n",
        "$$"
      ]
    },
    {
      "cell_type": "markdown",
      "id": "fe7747e5",
      "metadata": {
        "id": "fe7747e5"
      },
      "source": [
        "Получим:\n",
        "\n",
        "$$\\begin{cases}\n",
        "-1 \\cdot x_{1}+ 0 \\cdot x_{2}= -1 \\cdot x_{1}, \\\\\n",
        "0 \\cdot x_{1}-1 \\cdot x_{2}= -1 \\cdot x_{2}.\n",
        "\\end{cases}$$\n",
        "\n",
        "$$\\begin{cases}\n",
        "-x_{1}= -x_{1}, \\\\\n",
        "-x_{2}= -x_{2}.\n",
        "\\end{cases}$$\n",
        "\n",
        "__Так как в данную систему мы можем подставить абсолютно любые значения x1 и x2, соответственно для данной системы подходит любой вектор, с любыми координатами. Таким образом, любой вектор будет считаться собственным для оператора поворота на 180 градусов, что логично, так как поворот на 180 градусов - это поворот в противоположное направление (все вектора сохраняют свое местоположение, только становятся направлены в противоположную сторону (умножаются на -1), при этом коллинеарность сохраняется).__"
      ]
    },
    {
      "cell_type": "markdown",
      "id": "d9de2683",
      "metadata": {
        "id": "d9de2683"
      },
      "source": [
        "__3.__ Пусть линейный оператор задан матрицей:\n",
        "\n",
        "$$A=\\begin{pmatrix}\n",
        "1 & 1\\\\\n",
        "-1 & 3\n",
        "\\end{pmatrix}.$$\n",
        "\n",
        "Установите, считается ли вектор $x=(1,1)$ собственным вектором этого линейного оператора.\n"
      ]
    },
    {
      "cell_type": "markdown",
      "id": "bc04d45a",
      "metadata": {
        "id": "bc04d45a"
      },
      "source": [
        "__Решение__\n",
        "\n",
        "$$A=\\begin{pmatrix}\n",
        "1 & 1\\\\\n",
        "-1 & 3\n",
        "\\end{pmatrix}.$$\n",
        "\n",
        "вектор $x=(1,1)$\n",
        "\n",
        "Предположим, что вектор $x$ считается собственным вектором заданного линейного оператора, тогда должно существовать некоторое вещественное число $\\lambda$, при котором:\n",
        "\n",
        "$$\\begin{pmatrix}\n",
        "1 & 1\\\\\n",
        "-1 & 3\n",
        "\\end{pmatrix}\n",
        "\\begin{pmatrix}\n",
        "1\\\\\n",
        "1\n",
        "\\end{pmatrix}=\n",
        "\\lambda\n",
        "\\begin{pmatrix}\n",
        "1\\\\\n",
        "1\n",
        "\\end{pmatrix}.\n",
        "$$\n",
        "\n",
        "\n",
        "$$\\begin{cases}\n",
        "1+1=1\\cdot\\lambda \\\\\n",
        "-1+3 = 1\\cdot \\lambda\n",
        "\\end{cases}\n",
        "\\Rightarrow\n",
        "\\begin{cases}\n",
        "\\lambda=2\\\\\n",
        "\\lambda=2\n",
        "\\end{cases}.$$\n",
        "\n",
        "Такая система имеет решение 2, следовательно, вектор  $x=(1,1)$ __считается собственным вектором__ линейного оператора, заданного матрицей $A$."
      ]
    },
    {
      "cell_type": "markdown",
      "id": "e95cdc2c",
      "metadata": {
        "id": "e95cdc2c"
      },
      "source": [
        "Предположим, что вектор $x$ считается собственным вектором заданного линейного оператора, тогда должно существовать некоторое вещественное число $\\lambda$, при котором:\n",
        "\n",
        "$$\\begin{pmatrix}\n",
        "1 & 1\\\\\n",
        "-1 & 3\n",
        "\\end{pmatrix}\n",
        "\\begin{pmatrix}\n",
        "1\\\\\n",
        "1\n",
        "\\end{pmatrix}=\n",
        "\\lambda\n",
        "\\begin{pmatrix}\n",
        "1\\\\\n",
        "1\n",
        "\\end{pmatrix}.\n",
        "$$\n"
      ]
    },
    {
      "cell_type": "markdown",
      "id": "2c9d8e59",
      "metadata": {
        "id": "2c9d8e59"
      },
      "source": [
        "\n",
        "$$\\begin{cases}\n",
        "1+1=1\\cdot\\lambda \\\\\n",
        "-1+3 = 1\\cdot \\lambda\n",
        "\\end{cases}\n",
        "\\Rightarrow\n",
        "\\begin{cases}\n",
        "\\lambda=2\\\\\n",
        "\\lambda=2\n",
        "\\end{cases}.$$\n",
        "\n",
        "Такая система имеет решение 2, следовательно, вектор  $x=(1,1)$ __считается собственным вектором__ линейного оператора, заданного матрицей $A$."
      ]
    },
    {
      "cell_type": "code",
      "execution_count": 5,
      "id": "0b53d7f8",
      "metadata": {
        "id": "0b53d7f8",
        "outputId": "a049beae-2c12-4ed4-9bfe-e3293f3ca24c",
        "colab": {
          "base_uri": "https://localhost:8080/"
        }
      },
      "outputs": [
        {
          "output_type": "stream",
          "name": "stdout",
          "text": [
            "Матрица A:\n",
            "[[ 1  1]\n",
            " [-1  3]]\n",
            "Собственные значения:\n",
            "[2. 2.]\n",
            "Собственные векторы:\n",
            "[[ 0.7071 -0.7071]\n",
            " [ 0.7071 -0.7071]]\n"
          ]
        }
      ],
      "source": [
        "a = np.array([[1, 1], [-1, 3]])\n",
        "w, v = np.linalg.eig(a)\n",
        "\n",
        "print(f'Матрица A:\\n{a}')\n",
        "print(f'Собственные значения:\\n{w}')\n",
        "print(f'Собственные векторы:\\n{v}')"
      ]
    },
    {
      "cell_type": "markdown",
      "id": "f354c5ac",
      "metadata": {
        "id": "f354c5ac"
      },
      "source": [
        "**4.** Пусть линейный оператор задан матрицей:\n",
        "\n",
        "$$A=\\begin{pmatrix} 0 & 3 & 0\\\\ 3 & 0 & 0\\\\ 0 & 0 & 3 \\end{pmatrix}.$$\n",
        "\n",
        "Установите, считается ли вектор $x=(3, -3, -4)$ собственным вектором этого линейного оператора."
      ]
    },
    {
      "cell_type": "markdown",
      "id": "dc6b1b44",
      "metadata": {
        "id": "dc6b1b44"
      },
      "source": [
        "__Решение__\n",
        "\n",
        "Предположим, что вектор $x$ считается собственным вектором заданного линейного оператора. Тогда:\n",
        "\n",
        "\n",
        "$$\\begin{pmatrix}\n",
        "0 & 3 & 0\\\\\n",
        "3 & 0 & 0\\\\\n",
        "0 & 0 & 3\n",
        "\\end{pmatrix}\n",
        "\\begin{pmatrix}\n",
        "3\\\\\n",
        "-3\\\\\n",
        "-4\n",
        "\\end{pmatrix}=\n",
        "\\lambda\n",
        "\\begin{pmatrix}\n",
        "3\\\\\n",
        "-3\\\\\n",
        "-4\n",
        "\\end{pmatrix}\n",
        "$$\n",
        "\n",
        "$$\\Rightarrow\n",
        "\\begin{cases}\n",
        "3\\lambda=-9\\\\\n",
        "-3\\lambda=9\\\\\n",
        "-4\\lambda=-12\n",
        "\\end{cases}\n",
        "\\Rightarrow\n",
        "\\begin{cases}\n",
        "\\lambda=-3\\\\\n",
        "\\lambda=3\n",
        "\\end{cases}.$$\n",
        "\n",
        "Такая система не имеет смысла, следовательно, __вектор  $x=(3, -3, -4)$ не считается собственным вектором__ линейного оператора, заданного матрицей $A$."
      ]
    },
    {
      "cell_type": "code",
      "execution_count": 6,
      "id": "24c3803c",
      "metadata": {
        "id": "24c3803c",
        "outputId": "8a872102-421d-4304-9523-0e78b81ba573",
        "colab": {
          "base_uri": "https://localhost:8080/"
        }
      },
      "outputs": [
        {
          "output_type": "stream",
          "name": "stdout",
          "text": [
            "Матрица A:\n",
            "[[0 3 0]\n",
            " [3 0 0]\n",
            " [0 0 3]]\n",
            "Собственные значения:\n",
            "[ 3. -3.  3.]\n",
            "Собственные векторы:\n",
            "[[ 0.7071 -0.7071  0.    ]\n",
            " [ 0.7071  0.7071  0.    ]\n",
            " [ 0.      0.      1.    ]]\n"
          ]
        }
      ],
      "source": [
        "a = np.array([[0, 3, 0], [3, 0, 0], [0, 0, 3]])\n",
        "w, v = np.linalg.eig(a)\n",
        "\n",
        "print(f'Матрица A:\\n{a}')\n",
        "print(f'Собственные значения:\\n{w}')\n",
        "print(f'Собственные векторы:\\n{v}')"
      ]
    },
    {
      "cell_type": "markdown",
      "source": [
        "Решите систему методом Гаусса на Python с использованием NumPy:\n"
      ],
      "metadata": {
        "id": "5MDNRlN59_n2"
      },
      "id": "5MDNRlN59_n2"
    },
    {
      "cell_type": "code",
      "source": [
        "import numpy as np\n",
        "# Создаем матрицу коэффициентов системы уравнений\n",
        "A = np.array([[5, 1, -2], [1, -1, 5], [3, 1, 1]])\n",
        "# Создаем вектор правых частей системы уравнений\n",
        "b = np.array([12, 18, 22])\n",
        "# Решаем систему уравнений методом Гаусса\n",
        "x = np.linalg.solve(A, b)\n",
        "# Выводим решение системы уравнений\n",
        "print(x)\n"
      ],
      "metadata": {
        "colab": {
          "base_uri": "https://localhost:8080/"
        },
        "id": "MMydjnND-Qj4",
        "outputId": "cae504ff-91f1-4070-91a6-5aa7afe6c137"
      },
      "id": "MMydjnND-Qj4",
      "execution_count": 7,
      "outputs": [
        {
          "output_type": "stream",
          "name": "stdout",
          "text": [
            "[2.5 9.5 5. ]\n"
          ]
        }
      ]
    },
    {
      "cell_type": "markdown",
      "source": [
        "1. Создание системы линейных уравнений:\n",
        "Пусть у нас есть дорожная сеть, состоящая из городов A, B, C и D. Мы хотим\n",
        "найти оптимальный маршрут между городами A и D. Для этого мы можем\n",
        "создать систему линейных уравнений, где каждое уравнение будет\n",
        "описывать путь между двумя городами.Например, пусть у нас есть\n",
        "следующие пути:\n",
        "а. A -> B -> C -> D\n",
        "б. A -> B -> D\n",
        "в. A -> C -> D\n",
        "Тогда система линейных уравнений будет выглядеть следующим образом:\n",
        "x1 + x2 + x3 = 1 (оптимальный маршрут должен проходить через все города)\n",
        "x1 + x2 = 0 (оптимальный маршрут не должен проходить через один и тот же\n",
        "город дважды)\n",
        "x1 + x3 = 0 (оптимальный маршрут не должен проходить через один и тот же\n",
        "город дважды)\n",
        "Где x1, x2, x3 - это количество раз, которое оптимальный маршрут проходит\n",
        "через города A, B и C соответственно.\n",
        "2. Решение системы уравнений:\n",
        "Решим эту систему уравнений. Для этого мы можем использовать метод\n",
        "Гаусса или любой другой метод решения систем линейных уравнений.\n"
      ],
      "metadata": {
        "id": "ZBuY6h65BQL-"
      },
      "id": "ZBuY6h65BQL-"
    },
    {
      "cell_type": "code",
      "source": [
        "import numpy as np\n",
        "# Создаем матрицу коэффициентов системы уравнений\n",
        "A = np.array([[1, 1, 1], [1, 1, 0], [1, 0, 1]])\n",
        "# Создаем вектор правых частей системы уравнений\n",
        "b = np.array([1, 0, 0])\n",
        "# Решаем систему уравнений методом Гаусса\n",
        "x = np.linalg.solve(A, b)\n",
        "# Выводим решение системы уравнений\n",
        "print(x)"
      ],
      "metadata": {
        "colab": {
          "base_uri": "https://localhost:8080/"
        },
        "id": "DiToNDkuBRtm",
        "outputId": "211940ef-425d-4e3b-beb6-8da9945ba12b"
      },
      "id": "DiToNDkuBRtm",
      "execution_count": 8,
      "outputs": [
        {
          "output_type": "stream",
          "name": "stdout",
          "text": [
            "[-1.  1.  1.]\n"
          ]
        }
      ]
    },
    {
      "cell_type": "markdown",
      "source": [
        "Решите систему методом Крамера с использованием Python:\n"
      ],
      "metadata": {
        "id": "9eNH5i90EYXq"
      },
      "id": "9eNH5i90EYXq"
    },
    {
      "cell_type": "code",
      "source": [
        "import numpy as np\n",
        "def solve_cramer(A, b):\n",
        "    n = A.shape[0] # Количество неизвестных\n",
        "    # Вычисление определителя матрицы A\n",
        "    det_A = np.linalg.det(A)\n",
        "    if det_A == 0:\n",
        "      return \"Система уравнений не имеет единственного решения\"\n",
        "    solutions = []\n",
        "    for i in range(n):\n",
        "      # Замена i-го столбца матрицы A столбцом b\n",
        "      A_i = A.copy()\n",
        "      A_i[:, i] = b\n",
        "      # Вычисление определителя матрицы A_i\n",
        "      det_A_i = np.linalg.det(A_i)\n",
        "      # Решение i-й неизвестной\n",
        "      x_i = det_A_i / det_A\n",
        "      solutions.append(x_i)\n",
        "    return solutions\n",
        "# Пример использования\n",
        "A = np.array([[5, 1, -2], [1, -1, 5], [3, 1, 1]])\n",
        "b = np.array([12, 18, 22])\n",
        "result = solve_cramer(A, b)\n",
        "print(result)\n",
        "# terminal: [ 2.5 9.5 5.]\n"
      ],
      "metadata": {
        "colab": {
          "base_uri": "https://localhost:8080/"
        },
        "id": "hYR8WzAMEaIp",
        "outputId": "549e89b4-3c4c-490f-e6a2-58105801fef6"
      },
      "id": "hYR8WzAMEaIp",
      "execution_count": 9,
      "outputs": [
        {
          "output_type": "stream",
          "name": "stdout",
          "text": [
            "[2.500000000000002, 9.500000000000005, 5.0]\n"
          ]
        }
      ]
    },
    {
      "cell_type": "markdown",
      "source": [
        "Решите систему методом LU-разложения с использованием Python:\n"
      ],
      "metadata": {
        "id": "Yx8qNBNUFseT"
      },
      "id": "Yx8qNBNUFseT"
    },
    {
      "cell_type": "code",
      "source": [
        "import numpy as np\n",
        "import scipy\n",
        "def solve_lu(A, b):\n",
        "  # Выполняем LU-разложение матрицы A\n",
        "  P, L, U = scipy.linalg.lu(A)\n",
        "  # Решаем систему Lc = Pb методом прямого хода\n",
        "  c = scipy.linalg.solve_triangular(L, P @ b, lower=True)\n",
        "  # Решаем систему Ux = c методом обратного хода\n",
        "  x = scipy.linalg.solve_triangular(U, c)\n",
        "  return x\n",
        "# Пример использования\n",
        "A = np.array([[1, 2, 4],\n",
        "[2, 9, 12],\n",
        "[3, 26, 30]])\n",
        "b = np.array([6, 11, 16])\n",
        "result = solve_lu(A, b)\n",
        "print(result)\n",
        "# terminal: [ 4. -1. 1.]"
      ],
      "metadata": {
        "colab": {
          "base_uri": "https://localhost:8080/"
        },
        "id": "xqIQrRtUFt9k",
        "outputId": "b2270183-fc9c-441f-e695-2f13c0d976d0"
      },
      "id": "xqIQrRtUFt9k",
      "execution_count": 10,
      "outputs": [
        {
          "output_type": "stream",
          "name": "stdout",
          "text": [
            "[ 4. -1.  1.]\n"
          ]
        }
      ]
    },
    {
      "cell_type": "markdown",
      "source": [
        "Решите систему методом Холецкого с использованием Python:"
      ],
      "metadata": {
        "id": "70E3sZtkGRRE"
      },
      "id": "70E3sZtkGRRE"
    },
    {
      "cell_type": "code",
      "source": [
        "import numpy as np\n",
        "def cholesky_solve(A, b):\n",
        "  # Вычисляем разложение Холецкого матрицы A\n",
        "  L = np.linalg.cholesky(A)\n",
        "  # Решаем систему Ly = b методом прямого хода\n",
        "  y = np.linalg.solve(L, b)\n",
        "  # Решаем систему L.Tx = y методом обратного хода\n",
        "  x = np.linalg.solve(L.T, y)\n",
        "  return x\n",
        "# Пример использования\n",
        "A = np.array([[11, 13, 7],\n",
        "[13, 17, 9],\n",
        "[7, 9, 5]])\n",
        "b = np.array([6, 6, 4])\n",
        "result = cholesky_solve(A, b)\n",
        "print(result)\n",
        "# terminal: [ 1. -2. 3.]"
      ],
      "metadata": {
        "colab": {
          "base_uri": "https://localhost:8080/"
        },
        "id": "1UqmVGKVGSec",
        "outputId": "87d38eb3-abbf-4126-90c5-68f98ed72b7a"
      },
      "id": "1UqmVGKVGSec",
      "execution_count": 11,
      "outputs": [
        {
          "output_type": "stream",
          "name": "stdout",
          "text": [
            "[ 1. -2.  3.]\n"
          ]
        }
      ]
    },
    {
      "cell_type": "markdown",
      "source": [
        "В контексте кредитного скоринга, коэффициенты a, b, c, d, e, f могут\n",
        "представлять различные финансовые показатели заемщика, такие как доход,\n",
        "кредитная история, возраст, образование и т.д. Например, a может\n",
        "представлять доход заемщика, b - его кредитную историю, c - возраст, d -\n",
        "образование и т.д."
      ],
      "metadata": {
        "id": "WcRQx677HSzt"
      },
      "id": "WcRQx677HSzt"
    },
    {
      "cell_type": "code",
      "source": [
        "import numpy as np\n",
        "# Задаем коэффициенты системы линейных уравнений\n",
        "a = 100\n",
        "b = 2200\n",
        "c = 35\n",
        "d = 5\n",
        "e = 5\n",
        "f = 6\n",
        "# Создаем матрицу коэффициентов системы\n",
        "A = np.array([[a, b], [c, d]])\n",
        "print(f'Матрица A:\\n{A}')\n",
        "# Создаем вектор правых частей системы\n",
        "b = np.array([e, f])\n",
        "9\n",
        "# Решаем систему методом Крамера\n",
        "det_A = np.linalg.det(A)\n",
        "print(f'det_A:\\n{det_A}')\n",
        "det_A_inv_A = np.linalg.inv(A)\n",
        "x = det_A_inv_A.dot(b)\n",
        "\n",
        "# Выводим результат\n",
        "print(\"Вероятность дефолта заемщика: \", x)"
      ],
      "metadata": {
        "colab": {
          "base_uri": "https://localhost:8080/"
        },
        "id": "UbCeMWjRHUa0",
        "outputId": "ff8b7db4-a8c7-4a30-c124-8248f5b9bfbd"
      },
      "id": "UbCeMWjRHUa0",
      "execution_count": 17,
      "outputs": [
        {
          "output_type": "stream",
          "name": "stdout",
          "text": [
            "Матрица A:\n",
            "[[ 100 2200]\n",
            " [  35    5]]\n",
            "det_A:\n",
            "-76499.99999999996\n",
            "Вероятность дефолта заемщика:  [ 0.1722 -0.0056]\n"
          ]
        }
      ]
    },
    {
      "cell_type": "markdown",
      "source": [
        "Предположим, у нас есть компания, которая занимается разработкой\n",
        "программного обеспечения для оптимизации производственных процессов.\n",
        "Один из наших клиентов — крупная производственная компания, которая\n",
        "хочет оптимизировать свои производственные процессы и снизить затраты\n",
        "на производство.\n",
        "У нашей компании есть алгоритм, который позволяет находить оптимальные\n",
        "производственные процессы на основе данных о производственной линии и\n",
        "ограничений на время и ресурсы. Для этого мы используем метод Крамера,\n",
        "который позволяет решить систему линейных алгебраических уравнений.\n",
        "Ваша задача — разработать и внедрить этот алгоритм в систему управления\n",
        "производственными процессами нашей производственной компании. Вы\n",
        "должны создать систему, которая будет автоматически генерировать\n",
        "оптимальные производственные процессы для каждого заказа на\n",
        "производство. Для этого вы должны найти ядро и образ линейного\n",
        "оператора, который описывает задачу выбора оптимального\n",
        "производственного процесса.\n",
        "\n",
        "Решение:\n",
        "\n",
        "Коэффициенты линейного оператора производственной линии в сущностном\n",
        "выражении могут представлять различные параметры производственной\n",
        "линии, такие как производительность станков, время работы станков,\n",
        "количество деталей, проходящих через станки, и т.д"
      ],
      "metadata": {
        "id": "6O55hML4OXX8"
      },
      "id": "6O55hML4OXX8"
    },
    {
      "cell_type": "code",
      "source": [
        "import numpy as np\n",
        "# Задаем коэффициенты линейного оператора производственной линии\n",
        "a = 1\n",
        "b = 28\n",
        "c = 5\n",
        "d = 4\n",
        "e = 5\n",
        "f = 16\n",
        "g = 13\n",
        "h = 2\n",
        "i = 9\n",
        "# Создаем матрицу коэффициентов системы\n",
        "A = np.array([[a, b, c], [d, e, f], [g, h, i]])\n",
        "print(f'Матрица A:\\n{A}')\n",
        "# Находим определитель матрицы A\n",
        "det_A = np.linalg.det(A)\n",
        "print(f'определитель матрицы A:\\n{det_A}')\n",
        "print(f'Матрица inv(A):\\n{np.linalg.inv(A)}')\n",
        "# Находим определитель матрицы, полученной из A путем замены второго столбца на [0, 0, 0]\n",
        "det_A_inv_A = np.linalg.det(np.linalg.inv(A))\n",
        "# Находим определитель матрицы, полученной из A путем замены первого столбца на [y1, y2, 0]\n",
        "det_A_inv_A_y = np.linalg.det(np.linalg.inv(A))\n",
        "# Находим ядро линейного оператора производственной линии\n",
        "kernel = A / det_A\n",
        "# Находим образ линейного оператора производственной линии\n",
        "image = A / det_A_inv_A\n",
        "# Выводим результаты\n",
        "print(\"Ядро линейного оператора производственной линии: \", kernel)\n",
        "print(\"Образ линейного оператора производственной линии: \", image)"
      ],
      "metadata": {
        "colab": {
          "base_uri": "https://localhost:8080/"
        },
        "id": "k_Ea2z-oOYvV",
        "outputId": "7e28d1ef-d0e2-42f9-fe62-ab4c2f9fca7d"
      },
      "id": "k_Ea2z-oOYvV",
      "execution_count": 20,
      "outputs": [
        {
          "output_type": "stream",
          "name": "stdout",
          "text": [
            "Матрица A:\n",
            "[[ 1 28  5]\n",
            " [ 4  5 16]\n",
            " [13  2  9]]\n",
            "определитель матрицы A:\n",
            "4543.999999999998\n",
            "Матрица inv(A):\n",
            "[[ 0.0029 -0.0533  0.0931]\n",
            " [ 0.0379 -0.0123  0.0009]\n",
            " [-0.0125  0.0797 -0.0235]]\n",
            "Ядро линейного оператора производственной линии:  [[0.0002 0.0062 0.0011]\n",
            " [0.0009 0.0011 0.0035]\n",
            " [0.0029 0.0004 0.002 ]]\n",
            "Образ линейного оператора производственной линии:  [[  4544. 127232.  22720.]\n",
            " [ 18176.  22720.  72704.]\n",
            " [ 59072.   9088.  40896.]]\n"
          ]
        }
      ]
    },
    {
      "cell_type": "markdown",
      "source": [
        "Задайте матрицу и собственное значение случайным образом, найдите\n",
        "характеристический многочлен в виде матрицы программно с\n",
        "использованием средств языка Pytho"
      ],
      "metadata": {
        "id": "FbO57UypT_NU"
      },
      "id": "FbO57UypT_NU"
    },
    {
      "cell_type": "code",
      "source": [
        "import numpy as np\n",
        "import random\n",
        "# Задаем размерность\n",
        "n = 3\n",
        "# Определяем случайную матрицу 5x5\n",
        "A = np.random.rand(n, n)\n",
        "# Находим собственные значения матрицы\n",
        "eigenvalue = random.random()\n",
        "# Выводим матрицу A на экран\n",
        "print(f'Матрица A:\\n{A}')\n",
        "# Создаем диагональную матрицу с одним и тем же значением надиагонали\n",
        "diagonal_matrix = np.diag([eigenvalue] * n)\n",
        "# Выводим матрицу diagonal_matrix на экран\n",
        "print(f'Диагональная матрица:\\n{diagonal_matrix}')\n",
        "# Вычитаем одну матрицу из другой\n",
        "result = A - diagonal_matrix\n",
        "print(f'Характеристический многочлен:\\n{result}')"
      ],
      "metadata": {
        "colab": {
          "base_uri": "https://localhost:8080/"
        },
        "id": "GLN02mQTUA-s",
        "outputId": "84233406-295c-4512-cb8b-c9360fce9f1f"
      },
      "id": "GLN02mQTUA-s",
      "execution_count": 22,
      "outputs": [
        {
          "output_type": "stream",
          "name": "stdout",
          "text": [
            "Матрица A:\n",
            "[[0.7669 0.9154 0.3456]\n",
            " [0.2903 0.1138 0.0818]\n",
            " [0.3756 0.2583 0.2924]]\n",
            "Диагональная матрица:\n",
            "[[0.2809 0.     0.    ]\n",
            " [0.     0.2809 0.    ]\n",
            " [0.     0.     0.2809]]\n",
            "Характеристический многочлен:\n",
            "[[ 0.486   0.9154  0.3456]\n",
            " [ 0.2903 -0.1671  0.0818]\n",
            " [ 0.3756  0.2583  0.0114]]\n"
          ]
        }
      ]
    },
    {
      "cell_type": "markdown",
      "source": [
        "Найдите собственные векторы и собственные значения для линейного оператора,\n",
        "заданного матрицей:"
      ],
      "metadata": {
        "id": "vKlmc2yWU2Jl"
      },
      "id": "vKlmc2yWU2Jl"
    },
    {
      "cell_type": "code",
      "source": [
        "import numpy as np\n",
        "# Создание матрицы коэффициентов уравнений\n",
        "A = np.array([[1, 2, 4], [2, 9, 12], [3, 26, 30]])\n",
        "# Нахождение собственных значений и собственных векторов\n",
        "eigenvalues, eigenvectors = np.linalg.eig(A)\n",
        "print(\"Собственные значения:\", eigenvalues)\n",
        "print(\"Собственные векторы:\", eigenvectors)"
      ],
      "metadata": {
        "colab": {
          "base_uri": "https://localhost:8080/"
        },
        "id": "9TjOTyIrU3Md",
        "outputId": "b1392553-20b7-42c2-d04d-96462fecf105"
      },
      "id": "9TjOTyIrU3Md",
      "execution_count": 23,
      "outputs": [
        {
          "output_type": "stream",
          "name": "stdout",
          "text": [
            "Собственные значения: [40.4755+0.j     -0.2378+0.4365j -0.2378-0.4365j]\n",
            "Собственные векторы: [[ 0.1121+0.j     -0.7322+0.j     -0.7322-0.j    ]\n",
            " [ 0.3602+0.j     -0.4197+0.2395j -0.4197-0.2395j]\n",
            " [ 0.9261+0.j      0.4364-0.1997j  0.4364+0.1997j]]\n"
          ]
        }
      ]
    },
    {
      "cell_type": "markdown",
      "source": [
        "Установите, считается ли вектор x=(1,1) собственным вектором линейного\n",
        "оператора, заданного матрицей:\n",
        "Решение выполните средствами языка Python с одним ветвлением if-else, которое\n",
        "позволяет судить о принадлежности.\n"
      ],
      "metadata": {
        "id": "qcpGmFXPVQcM"
      },
      "id": "qcpGmFXPVQcM"
    },
    {
      "cell_type": "code",
      "source": [
        "import numpy as np\n",
        "# Определяем матрицу A и вектор x\n",
        "A = np.array([[1, 1], [-1, 3]])\n",
        "x = np.array([1, 1])\n",
        "# Умножаем матрицу A на вектор x\n",
        "result = np.dot(A, x)\n",
        "# Проверяем, является ли вектор x собственным вектором\n",
        "if np.array_equal(result, x):\n",
        "  print(\"Вектор x является собственным вектором исходной матрицы\")\n",
        "else:\n",
        "  print(\"Вектор x не является собственным вектором исходной матрицы\")\n"
      ],
      "metadata": {
        "colab": {
          "base_uri": "https://localhost:8080/"
        },
        "id": "zSQ47jOTVRj9",
        "outputId": "a269a8a9-9951-4c79-88d6-747a0b4abeb8"
      },
      "id": "zSQ47jOTVRj9",
      "execution_count": 24,
      "outputs": [
        {
          "output_type": "stream",
          "name": "stdout",
          "text": [
            "Вектор x не является собственным вектором исходной матрицы\n"
          ]
        }
      ]
    }
  ],
  "metadata": {
    "kernelspec": {
      "display_name": "Python 3 (ipykernel)",
      "language": "python",
      "name": "python3"
    },
    "language_info": {
      "codemirror_mode": {
        "name": "ipython",
        "version": 3
      },
      "file_extension": ".py",
      "mimetype": "text/x-python",
      "name": "python",
      "nbconvert_exporter": "python",
      "pygments_lexer": "ipython3",
      "version": "3.9.7"
    },
    "colab": {
      "provenance": [],
      "include_colab_link": true
    }
  },
  "nbformat": 4,
  "nbformat_minor": 5
}