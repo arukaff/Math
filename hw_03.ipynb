{
  "cells": [
    {
      "cell_type": "markdown",
      "metadata": {
        "id": "view-in-github",
        "colab_type": "text"
      },
      "source": [
        "<a href=\"https://colab.research.google.com/github/arukaff/Math/blob/main/hw_03.ipynb\" target=\"_parent\"><img src=\"https://colab.research.google.com/assets/colab-badge.svg\" alt=\"Open In Colab\"/></a>"
      ]
    },
    {
      "cell_type": "markdown",
      "id": "c436ef8e",
      "metadata": {
        "id": "c436ef8e"
      },
      "source": [
        "# Урок 3"
      ]
    },
    {
      "cell_type": "markdown",
      "id": "0d76ea09",
      "metadata": {
        "id": "0d76ea09"
      },
      "source": [
        "# Системы линейных уравнений. Часть 1"
      ]
    },
    {
      "cell_type": "markdown",
      "id": "2b9e4067",
      "metadata": {
        "id": "2b9e4067"
      },
      "source": [
        "__1.__ Решите систему уравнений методом Гаусса:\n",
        "\n",
        "$$\\begin{cases}\n",
        "x_{1}+x_{2}-x_{3}-2x_{4}=0, \\\\\n",
        "2x_{1}+x_{2}-x_{3}+x_{4}=-2, \\\\\n",
        "x_{1}+x_{2}-3x_{3}+x_{4}=4.\n",
        "\\end{cases}$$"
      ]
    },
    {
      "cell_type": "markdown",
      "id": "53f5749d",
      "metadata": {
        "id": "53f5749d"
      },
      "source": [
        "__Решение__\n",
        "\n",
        "Запишем расширенную матрицу системы:\n",
        "\n",
        "$$\\begin{pmatrix}\n",
        "\\left.\\begin{matrix}\n",
        "1 & 1 & -1 & -2 \\\\\n",
        "2 & 1 & -1 & 1 \\\\\n",
        "1 & 1 & -3 & 1\n",
        "\\end{matrix}\\right|\n",
        "\\begin{matrix}\n",
        "0\\\\\n",
        "-2\\\\\n",
        "4\n",
        "\\end{matrix}\n",
        "\\end{pmatrix}.$$\n",
        "\n",
        "В системе 4 переменных и 3 уравнения. _Возможно бесконечное множество решений._\n",
        "\n",
        "Путём элементарных преобразований постараемся привести матрицу к ступенчатому виду.\n",
        "\n"
      ]
    },
    {
      "cell_type": "markdown",
      "id": "5ca7af1e",
      "metadata": {
        "id": "5ca7af1e"
      },
      "source": [
        "Из второй строки вычтем первую, умноженную на 2.\n",
        "\n",
        "$$\\begin{pmatrix}\n",
        "\\left.\\begin{matrix}\n",
        "1 & 1 & -1 & -2 \\\\\n",
        "0 & -1 & 1 & 5 \\\\\n",
        "1 & 1 & -3 & 1\n",
        "\\end{matrix}\\right|\n",
        "\\begin{matrix}\n",
        "0\\\\\n",
        "-2\\\\\n",
        "4\n",
        "\\end{matrix}\n",
        "\\end{pmatrix}.$$"
      ]
    },
    {
      "cell_type": "markdown",
      "id": "56d95e44",
      "metadata": {
        "id": "56d95e44"
      },
      "source": [
        "Из третьей строки вычтем первую.\n",
        "\n",
        "\n",
        "$$\\begin{pmatrix}\n",
        "\\left.\\begin{matrix}\n",
        "1 & 1 & -1 & -2 \\\\\n",
        "0 & -1 & 1 & 5 \\\\\n",
        "0 & 0 & -2 & 3\n",
        "\\end{matrix}\\right|\n",
        "\\begin{matrix}\n",
        "0\\\\\n",
        "-2\\\\\n",
        "4\n",
        "\\end{matrix}\n",
        "\\end{pmatrix}.$$"
      ]
    },
    {
      "cell_type": "markdown",
      "id": "f8eeb706",
      "metadata": {
        "id": "f8eeb706"
      },
      "source": [
        "Оставшаяся матрица соответствует системе:\n",
        "\n",
        "$$\\begin{cases}\n",
        "x_{1}+x_{2}-x_{3} -2x_{4}=0, \\\\\n",
        "~~-x_{2}+x_{3} +5x_{4}=-2, \\\\\n",
        "~~~~-2x_{3}+3x_{4}=4.\n",
        "\\end{cases}$$\n",
        "\n",
        "И имеет бесконечное множество решений. Запишем в виде общего решения."
      ]
    },
    {
      "cell_type": "markdown",
      "id": "3e4849d5",
      "metadata": {
        "id": "3e4849d5"
      },
      "source": [
        "$$x_{4}=c,$$\n",
        "$$x_{3}=\\frac{3c - 4}{2},$$\n",
        "$$ -x_{2}+\\frac{3c - 4}{2} +5c=-2 \\; \\Leftrightarrow \\; x_{2}=\\frac{13c}{2},$$\n",
        "$$x_{1}+\\frac{13c}{2} -\\frac{3c - 4}{2} -2c=0 \\; \\Leftrightarrow \\; x_{1}=-3c - 2.$$"
      ]
    },
    {
      "cell_type": "markdown",
      "id": "9e50c266",
      "metadata": {
        "id": "9e50c266"
      },
      "source": [
        "Параметр $c$ может принимать бесконечное количество значений, при которых уравнения в системе будут обращаться в тождества.\n",
        "\n",
        "Подставив общее решение в исходную систему, также получим тождества:"
      ]
    },
    {
      "cell_type": "markdown",
      "id": "9c449333",
      "metadata": {
        "id": "9c449333"
      },
      "source": [
        "$$\\begin{cases}\n",
        "x_{1}+x_{2}-x_{3}-2x_{4}=0, \\\\\n",
        "2x_{1}+x_{2}-x_{3}+x_{4}=-2, \\\\\n",
        "x_{1}+x_{2}-3x_{3}+x_{4}=4.\n",
        "\\end{cases}$$"
      ]
    },
    {
      "cell_type": "markdown",
      "id": "ae9777df",
      "metadata": {
        "id": "ae9777df"
      },
      "source": [
        "$$\\begin{cases}\n",
        "-3c - 2 +\\frac{13c}{2} - \\frac{3c - 4}{2} -2c =0, \\\\\n",
        "2(-3c - 2)+\\frac{13c}{2}-\\frac{3c - 4}{2}+c=-2, \\\\\n",
        "-3c - 2+\\frac{13c}{2}-3\\frac{3c - 4}{2}+c=4.\n",
        "\\end{cases}$$"
      ]
    },
    {
      "cell_type": "markdown",
      "id": "ea44d876",
      "metadata": {
        "id": "ea44d876"
      },
      "source": [
        "__Ответ__:\n",
        "\n",
        "$$x_{1}=-3c - 2,$$\n",
        "$$x_{2}=\\frac{13c}{2},$$\n",
        "$$x_{3}=\\frac{3c - 4}{2},$$\n",
        "$$x_{4}=c.$$\n",
        "\n"
      ]
    },
    {
      "cell_type": "markdown",
      "id": "a490d000",
      "metadata": {
        "id": "a490d000"
      },
      "source": [
        "__2.__ Проверьте на совместность и выясните, сколько решений будет иметь система линейных уравнений:\n",
        "\n",
        "   а) $\\begin{cases}\n",
        "3x_{1}-x_{2}+x_{3}=4, \\\\\n",
        "2x_{1}-5x_{2}-3x_{3}=-17, \\\\\n",
        "x_{1}+x_{2}-x_{3}=0;\n",
        "\\end{cases}$\n",
        "    \n",
        "   б) $\\begin{cases}\n",
        "2x_{1}-4x_{2}+6x_{3}=1, \\\\\n",
        "x_{1}-2x_{2}+3x_{3}=-2, \\\\\n",
        "3x_{1}-6x_{2}+9x_{3}=5;\n",
        "\\end{cases}$\n",
        "    \n",
        "   в) $\\begin{cases}\n",
        "x_{1}+2x_{2}+5x_{3}=4, \\\\\n",
        "3x_{1}+x_{2}-8x_{3}=-2.\n",
        "\\end{cases}$\n"
      ]
    },
    {
      "cell_type": "markdown",
      "id": "37775651",
      "metadata": {
        "id": "37775651"
      },
      "source": [
        "__Решение__\n",
        "\n",
        "   а) $\\begin{cases}\n",
        "3x_{1}-x_{2}+x_{3}=4, \\\\\n",
        "2x_{1}-5x_{2}-3x_{3}=-17, \\\\\n",
        "x_{1}+x_{2}-x_{3}=0;\n",
        "\\end{cases}$\n",
        "$$\\begin{pmatrix}\n",
        "\\left.\\begin{matrix}\n",
        "3 & -1 & 1 \\\\\n",
        "2 & -5 & -3\\\\\n",
        "1 & 1 & -1\n",
        "\\end{matrix}\\right|\n",
        "\\begin{matrix}\n",
        "4\\\\\n",
        "-17\\\\\n",
        "0\n",
        "\\end{matrix}\n",
        "\\end{pmatrix}.$$\n",
        "__Когда число уравнений равно числу неизвестных__ и матрица коэффициентов не вырождена, если векторы столбцов коэффициентов $a_{1},a_{2}...,a_{n}$ линейно независимы, то такая система совместна, и её решение единственно при любом векторе свободных членов $b$._\n",
        "В нашем случае, число уравнений равно числу неизвестных, вектора столбцов линейно независимы, соответственно такая __система совместна и имеет одно решение__.\n",
        "\n",
        "Проверим методом Гаусса:\n",
        "\n",
        "$$\\begin{pmatrix}\n",
        "\\left.\\begin{matrix}\n",
        "3 & -1 & 1 \\\\\n",
        "2 & -5 & -3\\\\\n",
        "1 & 1 & -1\n",
        "\\end{matrix}\\right|\n",
        "\\begin{matrix}\n",
        "4\\\\\n",
        "-17\\\\\n",
        "0\n",
        "\\end{matrix}\n",
        "\\end{pmatrix}.$$\n",
        "Из второй строки вычтем первую, умноженную на 2/3\n",
        "\n",
        "$$\\begin{pmatrix}\n",
        "\\left.\\begin{matrix}\n",
        "3 & -1 & 1 \\\\\n",
        "0 & -13/3 & -11/3\\\\\n",
        "1 & 1 & -1\n",
        "\\end{matrix}\\right|\n",
        "\\begin{matrix}\n",
        "4\\\\\n",
        "-59/3\\\\\n",
        "0\n",
        "\\end{matrix}\n",
        "\\end{pmatrix}.$$\n",
        "Из третьей строки вычтем первую, умноженную на 1/3\n",
        "\n",
        "$$\\begin{pmatrix}\n",
        "\\left.\\begin{matrix}\n",
        "3 & -1 & 1 \\\\\n",
        "0 & -13/3 & -11/3\\\\\n",
        "0 & 4/3 & -4/3\n",
        "\\end{matrix}\\right|\n",
        "\\begin{matrix}\n",
        "4\\\\\n",
        "-59/3\\\\\n",
        "-4/3\n",
        "\\end{matrix}\n",
        "\\end{pmatrix}.$$\n",
        "К третьей строке прибавим вторую, умноженную на 4/13\n",
        "\n",
        "$$\\begin{pmatrix}\n",
        "\\left.\\begin{matrix}\n",
        "3 & -1 & 1 \\\\\n",
        "0 & -13/3 & -11/3\\\\\n",
        "0 & 0 & (-4/3 - 44/39)\n",
        "\\end{matrix}\\right|\n",
        "\\begin{matrix}\n",
        "4\\\\\n",
        "-59/3\\\\\n",
        "(-4/3 - 236/39)\n",
        "\\end{matrix}\n",
        "\\end{pmatrix}.$$\n",
        "\n",
        "__Действительно, получилось, что система совместна и имеет одно решение.__"
      ]
    },
    {
      "cell_type": "markdown",
      "id": "a1fb9efe",
      "metadata": {
        "id": "a1fb9efe"
      },
      "source": [
        "$$\\begin{pmatrix}\n",
        "\\left.\\begin{matrix}\n",
        "3 & -1 & 1 \\\\\n",
        "2 & -5 & -3\\\\\n",
        "1 & 1 & -1\n",
        "\\end{matrix}\\right|\n",
        "\\begin{matrix}\n",
        "4\\\\\n",
        "-17\\\\\n",
        "0\n",
        "\\end{matrix}\n",
        "\\end{pmatrix}.$$"
      ]
    },
    {
      "cell_type": "markdown",
      "id": "2f0749ac",
      "metadata": {
        "id": "2f0749ac"
      },
      "source": [
        "__Когда число уравнений равно числу неизвестных__ и матрица коэффициентов не вырождена, если векторы столбцов коэффициентов $a_{1},a_{2}...,a_{n}$ линейно независимы, то такая система совместна, и её решение единственно при любом векторе свободных членов $b$._"
      ]
    },
    {
      "cell_type": "markdown",
      "id": "75672fe4",
      "metadata": {
        "id": "75672fe4"
      },
      "source": [
        "В нашем случае, число уравнений равно числу неизвестных, вектора столбцов линейно независимы, соответственно такая __система совместна и имеет одно решение__.\n",
        "\n",
        "Проверим методом Гаусса:\n",
        "\n",
        "$$\\begin{pmatrix}\n",
        "\\left.\\begin{matrix}\n",
        "3 & -1 & 1 \\\\\n",
        "2 & -5 & -3\\\\\n",
        "1 & 1 & -1\n",
        "\\end{matrix}\\right|\n",
        "\\begin{matrix}\n",
        "4\\\\\n",
        "-17\\\\\n",
        "0\n",
        "\\end{matrix}\n",
        "\\end{pmatrix}.$$"
      ]
    },
    {
      "cell_type": "markdown",
      "id": "4a51f04e",
      "metadata": {
        "id": "4a51f04e"
      },
      "source": [
        "Из второй строки вычтем первую, умноженную на 2/3\n",
        "\n",
        "$$\\begin{pmatrix}\n",
        "\\left.\\begin{matrix}\n",
        "3 & -1 & 1 \\\\\n",
        "0 & -13/3 & -11/3\\\\\n",
        "1 & 1 & -1\n",
        "\\end{matrix}\\right|\n",
        "\\begin{matrix}\n",
        "4\\\\\n",
        "-59/3\\\\\n",
        "0\n",
        "\\end{matrix}\n",
        "\\end{pmatrix}.$$"
      ]
    },
    {
      "cell_type": "markdown",
      "id": "6792699d",
      "metadata": {
        "id": "6792699d"
      },
      "source": [
        "Из третьей строки вычтем первую, умноженную на 1/3\n",
        "\n",
        "$$\\begin{pmatrix}\n",
        "\\left.\\begin{matrix}\n",
        "3 & -1 & 1 \\\\\n",
        "0 & -13/3 & -11/3\\\\\n",
        "0 & 4/3 & -4/3\n",
        "\\end{matrix}\\right|\n",
        "\\begin{matrix}\n",
        "4\\\\\n",
        "-59/3\\\\\n",
        "-4/3\n",
        "\\end{matrix}\n",
        "\\end{pmatrix}.$$"
      ]
    },
    {
      "cell_type": "markdown",
      "id": "4ba69c87",
      "metadata": {
        "id": "4ba69c87"
      },
      "source": [
        "К третьей строке прибавим вторую, умноженную на 4/13\n",
        "\n",
        "$$\\begin{pmatrix}\n",
        "\\left.\\begin{matrix}\n",
        "3 & -1 & 1 \\\\\n",
        "0 & -13/3 & -11/3\\\\\n",
        "0 & 0 & (-4/3 - 44/39)\n",
        "\\end{matrix}\\right|\n",
        "\\begin{matrix}\n",
        "4\\\\\n",
        "-59/3\\\\\n",
        "(-4/3 - 236/39)\n",
        "\\end{matrix}\n",
        "\\end{pmatrix}.$$\n",
        "\n",
        "__Действительно, получилось, что система совместна и имеет одно решение.__"
      ]
    },
    {
      "cell_type": "markdown",
      "id": "3343df67",
      "metadata": {
        "id": "3343df67"
      },
      "source": [
        "    \n",
        "   б) $\\begin{cases}\n",
        "2x_{1}-4x_{2}+6x_{3}=1, \\\\\n",
        "x_{1}-2x_{2}+3x_{3}=-2, \\\\\n",
        "3x_{1}-6x_{2}+9x_{3}=5;\n",
        "\\end{cases}$"
      ]
    },
    {
      "cell_type": "markdown",
      "id": "aa0f3b93",
      "metadata": {
        "id": "aa0f3b93"
      },
      "source": [
        "$$\\begin{pmatrix}\n",
        "\\left.\\begin{matrix}\n",
        "2 & -4 & 6 \\\\\n",
        "1 & -2 & 3\\\\\n",
        "3 & -6 & 9\n",
        "\\end{matrix}\\right|\n",
        "\\begin{matrix}\n",
        "1\\\\\n",
        "-2\\\\\n",
        "5\n",
        "\\end{matrix}\n",
        "\\end{pmatrix}.$$"
      ]
    },
    {
      "cell_type": "markdown",
      "id": "aa350284",
      "metadata": {
        "id": "aa350284"
      },
      "source": [
        "В данном случае мы видим, что в матрице коэффициентов, первая и вторая строки линейно зависимы, если одну из них их убрать, то ранг матрицы равен 2. В случае расширенной матрицы, строки линейно независимы, то есть ранг матрицы = 3.\n",
        "Третий столбец равен первому, умноженному на 3 (то есть лежат на одной прямой). Столбец свободных членов нельзя выразить через столбцы коэффициентов, то есть вектор свободных членов не лежит в плоскости, образуемой векторами коэффициентов.\n",
        "Соответственно, __система несовместна__.\n"
      ]
    },
    {
      "cell_type": "markdown",
      "id": "43af6d41",
      "metadata": {
        "id": "43af6d41"
      },
      "source": [
        "   в) $\\begin{cases}\n",
        "x_{1}+2x_{2}+5x_{3}=4, \\\\\n",
        "3x_{1}+x_{2}-8x_{3}=-2.\n",
        "\\end{cases}$"
      ]
    },
    {
      "cell_type": "markdown",
      "id": "ef65bf3a",
      "metadata": {
        "id": "ef65bf3a"
      },
      "source": [
        "$$\\begin{pmatrix}\n",
        "\\left.\\begin{matrix}\n",
        "1 & 2 & 5 \\\\\n",
        "3 & 1 & -8\n",
        "\\end{matrix}\\right|\n",
        "\\begin{matrix}\n",
        "4\\\\\n",
        "-2\n",
        "\\end{matrix}\n",
        "\\end{pmatrix}.$$\n",
        "\n",
        "Число уравнений меньше числа неизвестных, система недоопределена.\n",
        "Вектора коэфициентов линейно независимы.\n",
        "Ранг и матрицы коэффициентов, и расширенной матрицы равен 2, что меньше числа переменных, которых 3.\n",
        "Соответственно, __система имеет бесконечное количество решений__."
      ]
    },
    {
      "cell_type": "code",
      "execution_count": 1,
      "id": "4de62a37",
      "metadata": {
        "id": "4de62a37"
      },
      "outputs": [],
      "source": [
        "#Проверим с помощью Python\n",
        "\n",
        "import numpy as np"
      ]
    },
    {
      "cell_type": "code",
      "execution_count": 2,
      "id": "190fbe2d",
      "metadata": {
        "id": "190fbe2d"
      },
      "outputs": [],
      "source": [
        "def gauss_method(A, b, n):\n",
        "    rnk_A = np.linalg.matrix_rank(A)\n",
        "    rnk_Ab = np.linalg.matrix_rank(np.hstack((A, b)))\n",
        "    if  rnk_A == rnk_Ab == n:\n",
        "        return 'Cистема имеет единственное решение'\n",
        "    elif (rnk_A == rnk_Ab) and (rnk_A < n):\n",
        "        return 'Cистема имеет бесконечное количество решений'\n",
        "    elif rnk_A < rnk_Ab:\n",
        "        return 'Cистема несовместна'"
      ]
    },
    {
      "cell_type": "code",
      "execution_count": 3,
      "id": "069b80c0",
      "metadata": {
        "id": "069b80c0",
        "outputId": "75cd2e0c-1fa5-40fa-c32f-5d1d10fc7a80",
        "colab": {
          "base_uri": "https://localhost:8080/",
          "height": 35
        }
      },
      "outputs": [
        {
          "output_type": "execute_result",
          "data": {
            "text/plain": [
              "'Cистема имеет единственное решение'"
            ],
            "application/vnd.google.colaboratory.intrinsic+json": {
              "type": "string"
            }
          },
          "metadata": {},
          "execution_count": 3
        }
      ],
      "source": [
        "A = np.array([[3, -1 , 1], [2, -5, -3], [1, 1, -1]])\n",
        "b = np.array([4, -17, 0]).reshape(-1, 1)\n",
        "gauss_method(A, b, 3)"
      ]
    },
    {
      "cell_type": "code",
      "execution_count": 4,
      "id": "bb67cd17",
      "metadata": {
        "id": "bb67cd17",
        "outputId": "2e9fce93-2f58-47ee-cec5-7b2497754835",
        "colab": {
          "base_uri": "https://localhost:8080/",
          "height": 35
        }
      },
      "outputs": [
        {
          "output_type": "execute_result",
          "data": {
            "text/plain": [
              "'Cистема несовместна'"
            ],
            "application/vnd.google.colaboratory.intrinsic+json": {
              "type": "string"
            }
          },
          "metadata": {},
          "execution_count": 4
        }
      ],
      "source": [
        "A = np.array([[2, -4, 6], [1, -2, 3], [3, -6, 9]])\n",
        "b = np.array([1, -2, 5]).reshape(-1, 1)\n",
        "gauss_method(A, b, 3)"
      ]
    },
    {
      "cell_type": "code",
      "execution_count": 5,
      "id": "05a5f65a",
      "metadata": {
        "id": "05a5f65a",
        "outputId": "63e748e8-4946-4bfa-ba84-e1476cf97018",
        "colab": {
          "base_uri": "https://localhost:8080/",
          "height": 35
        }
      },
      "outputs": [
        {
          "output_type": "execute_result",
          "data": {
            "text/plain": [
              "'Cистема имеет бесконечное количество решений'"
            ],
            "application/vnd.google.colaboratory.intrinsic+json": {
              "type": "string"
            }
          },
          "metadata": {},
          "execution_count": 5
        }
      ],
      "source": [
        "A = np.array([[1, 2, 5], [3, 1, -8]])\n",
        "b = np.array([4, -2]).reshape(-1, 1)\n",
        "gauss_method(A, b, 3)"
      ]
    },
    {
      "cell_type": "markdown",
      "id": "954c2581",
      "metadata": {
        "id": "954c2581"
      },
      "source": [
        "__3.__ Проверьте на совместность и выясните, сколько решений будет иметь система линейных уравнений, заданная расширенной матрицей:\n",
        "\n",
        "$$\\tilde{A}=\\begin{pmatrix}\n",
        "\\left.\\begin{matrix}\n",
        "1 & 3 & -2 & 4\\\\\n",
        "0 & 5 & 0 & 1\\\\\n",
        "0 & 0 & 3 & 0\\\\\n",
        "0 & 0 & 0 & 2\n",
        "\\end{matrix}\\right|\n",
        "\\begin{matrix}\n",
        "3\\\\\n",
        "2\\\\\n",
        "4\\\\\n",
        "1\n",
        "\\end{matrix}\n",
        "\\end{pmatrix}.$$"
      ]
    },
    {
      "cell_type": "markdown",
      "id": "fd74b7cd",
      "metadata": {
        "id": "fd74b7cd"
      },
      "source": [
        "__Решение__"
      ]
    },
    {
      "cell_type": "code",
      "execution_count": 6,
      "id": "b0c313f8",
      "metadata": {
        "id": "b0c313f8",
        "outputId": "c68aaa80-f0a6-47f7-d09e-54a97d1c6731",
        "colab": {
          "base_uri": "https://localhost:8080/",
          "height": 35
        }
      },
      "outputs": [
        {
          "output_type": "execute_result",
          "data": {
            "text/plain": [
              "'Cистема имеет единственное решение'"
            ],
            "application/vnd.google.colaboratory.intrinsic+json": {
              "type": "string"
            }
          },
          "metadata": {},
          "execution_count": 6
        }
      ],
      "source": [
        "A = np.array([[1, 3, -2, 4], [0, 5, 0, 1], [0, 0, 3, 0], [0, 0, 0, 2]])\n",
        "b = np.array([3, 2, 4, 1]).reshape(-1, 1)\n",
        "gauss_method(A, b, 4)"
      ]
    },
    {
      "cell_type": "markdown",
      "id": "e39781a6",
      "metadata": {
        "id": "e39781a6"
      },
      "source": [
        "__Ответ__: система совместна и имеет единственное решение."
      ]
    },
    {
      "cell_type": "markdown",
      "id": "d6a4ff89",
      "metadata": {
        "id": "d6a4ff89"
      },
      "source": [
        "__4.__ Дана система линейных уравнений, заданная расширенной матрицей:\n",
        "\n",
        "$$\\tilde{A}=\\begin{pmatrix}\n",
        "\\left.\\begin{matrix}\n",
        "1 & 2 & 3\\\\\n",
        "4 & 5 & 6\\\\\n",
        "7 & 8 & 9\n",
        "\\end{matrix}\\right|\n",
        "\\begin{matrix}\n",
        "a\\\\\n",
        "b\\\\\n",
        "c\n",
        "\\end{matrix}\n",
        "\\end{pmatrix}.$$\n",
        "\n",
        "Найдите соотношение между параметрами $a$, $b$ и $c$, при которых система считается несовместной."
      ]
    },
    {
      "cell_type": "markdown",
      "id": "e9fa6c49",
      "metadata": {
        "id": "e9fa6c49"
      },
      "source": [
        "__Решение__\n",
        "\n",
        "\n",
        "По теореме Кронекера — Капелли:\n",
        "\n",
        "Необходимым и достаточным условием совместности системы из $m$ уравнений с $n$ неизвестными считается равенство между собой рангов матрицы коэффициентов $A$ и расширенной матрицы $\\tilde A$:\n",
        "\n",
        "$$rank A=rank \\tilde A.$$\n",
        "\n",
        "Причём:<br>\n",
        "* если $rankA=rank \\tilde A=n$, где $n$ — число неизвестных, то система определена, то есть имеет единственное решение;<br>\n",
        "* если $rankA=rank \\tilde A<n$, то система имеет бесконечное количество решений;<br>\n",
        "* если $rankA<rank \\tilde A$, то система несовместна.\n",
        "\n",
        "__То есть получается, если ранг матрицы коэффициентов меньше ранга расширенной матрицы, то система несовместна.__"
      ]
    },
    {
      "cell_type": "code",
      "execution_count": 7,
      "id": "794ea081",
      "metadata": {
        "id": "794ea081",
        "outputId": "01da7afb-5615-47bc-da65-8aee0dbab673",
        "colab": {
          "base_uri": "https://localhost:8080/"
        }
      },
      "outputs": [
        {
          "output_type": "execute_result",
          "data": {
            "text/plain": [
              "2"
            ]
          },
          "metadata": {},
          "execution_count": 7
        }
      ],
      "source": [
        "#Найдем ранг матрицы коэффициентов\n",
        "\n",
        "A = np.array([[1, 2, 3], [4, 5, 6], [7, 8, 9]])\n",
        "\n",
        "rnk_A = np.linalg.matrix_rank(A)\n",
        "rnk_A"
      ]
    },
    {
      "cell_type": "markdown",
      "id": "8c7d9e84",
      "metadata": {
        "id": "8c7d9e84"
      },
      "source": [
        "Получается, нам надо добиться того, чтобы ранг расширенной матрицы стал больше ранга матрицы, коэффеициентов.\n",
        "\n",
        "$$\\tilde{A}=\\begin{pmatrix}\n",
        "\\left.\\begin{matrix}\n",
        "1 & 2 & 3\\\\\n",
        "4 & 5 & 6\\\\\n",
        "7 & 8 & 9\n",
        "\\end{matrix}\\right|\n",
        "\\begin{matrix}\n",
        "a\\\\\n",
        "b\\\\\n",
        "c\n",
        "\\end{matrix}\n",
        "\\end{pmatrix}.$$"
      ]
    },
    {
      "cell_type": "markdown",
      "id": "a196568a",
      "metadata": {
        "id": "a196568a"
      },
      "source": [
        "Преобразуем матрицу методом Гаусса:\n",
        "\n",
        "От 2-й строки отнимем 1-ю, умноженную на 4\n",
        "\n",
        "$$\\tilde{A}=\\begin{pmatrix}\n",
        "\\left.\\begin{matrix}\n",
        "1 & 2 & 3\\\\\n",
        "0 & -3 & -6\\\\\n",
        "7 & 8 & 9\n",
        "\\end{matrix}\\right|\n",
        "\\begin{matrix}\n",
        "a\\\\\n",
        "b-4a\\\\\n",
        "c\n",
        "\\end{matrix}\n",
        "\\end{pmatrix}.$$\n",
        "\n"
      ]
    },
    {
      "cell_type": "markdown",
      "id": "18951b44",
      "metadata": {
        "id": "18951b44"
      },
      "source": [
        "От 3-й строки отнимем 1-ю, умноженную на 7\n",
        "\n",
        "$$\\tilde{A}=\\begin{pmatrix}\n",
        "\\left.\\begin{matrix}\n",
        "1 & 2 & 3\\\\\n",
        "0 & -3 & -6\\\\\n",
        "0 & -6 & -12\n",
        "\\end{matrix}\\right|\n",
        "\\begin{matrix}\n",
        "a\\\\\n",
        "b-4a\\\\\n",
        "c-7a\n",
        "\\end{matrix}\n",
        "\\end{pmatrix}.$$\n"
      ]
    },
    {
      "cell_type": "markdown",
      "id": "54543578",
      "metadata": {
        "id": "54543578"
      },
      "source": [
        "Получается, третья строка матрицы коэффициентов равна второй, умноженнной на 2. Из-за этого ранг матрицы = 2.\n",
        "\n",
        "\n",
        "То есть надо с помощью соотношения коэфициентов, добиться того, чтобы 3я строка не была пропорциональна второй строке."
      ]
    },
    {
      "cell_type": "markdown",
      "id": "f122363d",
      "metadata": {
        "id": "f122363d"
      },
      "source": [
        "Нужное соотношение является результатом решения неравенства:\n",
        "\n",
        "$$ c - 7a \\neq 2(b - 4a) \\Leftrightarrow \\; c \\neq 2b - a \\Leftrightarrow \\; a \\neq  2b - c \\Leftrightarrow \\; b \\neq  \\frac{c+a}{2} $$"
      ]
    },
    {
      "cell_type": "markdown",
      "id": "c02b21c7",
      "metadata": {
        "id": "c02b21c7"
      },
      "source": [
        "Подставим пример, соответствующий данному соотношению в исходную матрицу и найдем ее ранг.\n",
        "\n",
        "Подствляем a=1, b=2, $с \\neq 2b - a \\neq 3$. Подставим c=4\n",
        "$$\\tilde{A}=\\begin{pmatrix}\n",
        "\\left.\\begin{matrix}\n",
        "1 & 2 & 3\\\\\n",
        "4 & 5 & 6\\\\\n",
        "7 & 8 & 9\n",
        "\\end{matrix}\\right|\n",
        "\\begin{matrix}\n",
        "1\\\\\n",
        "2\\\\\n",
        "4\n",
        "\\end{matrix}\n",
        "\\end{pmatrix}.$$"
      ]
    },
    {
      "cell_type": "code",
      "execution_count": 8,
      "id": "d7cc0af3",
      "metadata": {
        "id": "d7cc0af3",
        "outputId": "02a1289a-f82d-4e81-db78-a2658d454ce4",
        "colab": {
          "base_uri": "https://localhost:8080/"
        }
      },
      "outputs": [
        {
          "output_type": "execute_result",
          "data": {
            "text/plain": [
              "3"
            ]
          },
          "metadata": {},
          "execution_count": 8
        }
      ],
      "source": [
        "\n",
        "A = np.array([[1, 2, 3], [4, 5, 6], [7, 8, 9], [1, 2, 4],])\n",
        "\n",
        "rnk_A = np.linalg.matrix_rank(A)\n",
        "rnk_A"
      ]
    },
    {
      "cell_type": "markdown",
      "id": "cba1ff94",
      "metadata": {
        "id": "cba1ff94"
      },
      "source": [
        "__Ранг расширенной матрицы больше, ранга матрицы коэффициентов, то есть система несовместна.__"
      ]
    },
    {
      "cell_type": "code",
      "execution_count": 9,
      "id": "3fbb9cf3",
      "metadata": {
        "id": "3fbb9cf3",
        "outputId": "ab12686c-421a-4314-949f-d10b97745c12",
        "colab": {
          "base_uri": "https://localhost:8080/"
        }
      },
      "outputs": [
        {
          "output_type": "execute_result",
          "data": {
            "text/plain": [
              "2"
            ]
          },
          "metadata": {},
          "execution_count": 9
        }
      ],
      "source": [
        "# если поставить с=3, то ранг будет 2 и система будет иметь бесконечное количество решений, так как ранги равны, но меньше\n",
        "# числа переменных.\n",
        "A = np.array([[1, 2, 3], [4, 5, 6], [7, 8, 9], [1, 2, 3],])\n",
        "\n",
        "rnk_A = np.linalg.matrix_rank(A)\n",
        "rnk_A"
      ]
    },
    {
      "cell_type": "markdown",
      "id": "65bd0518",
      "metadata": {
        "id": "65bd0518"
      },
      "source": [
        "__Ответ__:\n",
        "Соотношение следующее:\n",
        "\n",
        "$$ c \\neq 2b - a \\Leftrightarrow \\; a \\neq  2b - c \\Leftrightarrow \\; b \\neq  \\frac{c+a}{2} $$"
      ]
    },
    {
      "cell_type": "markdown",
      "id": "1e007cae",
      "metadata": {
        "id": "1e007cae"
      },
      "source": [
        "# Системы линейных уравнений. Часть 2"
      ]
    },
    {
      "cell_type": "markdown",
      "id": "11a94e84",
      "metadata": {
        "id": "11a94e84"
      },
      "source": [
        "__1.__ Решите систему уравнений методом Крамера:\n",
        "\n",
        "   а) $\\begin{cases}\n",
        "x_{1}-2x_{2}=1 \\\\\n",
        "3x_{1}-4x_{2}=7\n",
        "\\end{cases}$\n",
        "    \n",
        "   б) $\\begin{cases}\n",
        "2x_{1}-x_{2}+5x_{3}=10 \\\\\n",
        "x_{1}+x_{2}-3x_{3}=-2 \\\\\n",
        "2x_{1}+4x_{2}+x_{3}=1\n",
        "\\end{cases}$"
      ]
    },
    {
      "cell_type": "markdown",
      "id": "528d73eb",
      "metadata": {
        "id": "528d73eb"
      },
      "source": [
        "__Решение__\n",
        "\n",
        "   а) $\\begin{cases}\n",
        "x_{1}-2x_{2}=1 \\\\\n",
        "3x_{1}-4x_{2}=7\n",
        "\\end{cases}$"
      ]
    },
    {
      "cell_type": "markdown",
      "id": "d88ca430",
      "metadata": {
        "id": "d88ca430"
      },
      "source": [
        "Для системы с $n$ уравнениями и $n$ неизвестными, если система уравнений не вырождена ($detA\\neq 0$), то система определена, то есть имеет единственное решение, и это решение может быть найдено по формуле Крамера:\n",
        "\n",
        "$$x_{i}=\\frac{detA_{i}}{detA},$$\n",
        "\n",
        "где $A_{i}$ — это матрица, получаемая заменой $i$-го столбца на вектор-столбец свободных членов $b$."
      ]
    },
    {
      "cell_type": "markdown",
      "id": "07d93f47",
      "metadata": {
        "id": "07d93f47"
      },
      "source": [
        "$$\\tilde{A}=\\begin{pmatrix}\n",
        "\\left.\\begin{matrix}\n",
        "1 & -2\\\\\n",
        "3 & -4\\\\\n",
        "\\end{matrix}\\right|\n",
        "\\begin{matrix}\n",
        "1\\\\\n",
        "7\n",
        "\\end{matrix}\n",
        "\\end{pmatrix}.$$"
      ]
    },
    {
      "cell_type": "markdown",
      "id": "8392775c",
      "metadata": {
        "id": "8392775c"
      },
      "source": [
        "$$detA = (1 * (-4)) - 3 * (-2) = -4 + 6 = 2$$"
      ]
    },
    {
      "cell_type": "code",
      "execution_count": 10,
      "id": "519980e0",
      "metadata": {
        "id": "519980e0",
        "outputId": "06ea7843-7918-4d81-8c18-aa8adc6b7a4a",
        "colab": {
          "base_uri": "https://localhost:8080/"
        }
      },
      "outputs": [
        {
          "output_type": "execute_result",
          "data": {
            "text/plain": [
              "2.0000000000000004"
            ]
          },
          "metadata": {},
          "execution_count": 10
        }
      ],
      "source": [
        "A = np.array([[1,-2], [3, -4]])\n",
        "np.linalg.det(A)"
      ]
    },
    {
      "cell_type": "markdown",
      "id": "cd35c15f",
      "metadata": {
        "id": "cd35c15f"
      },
      "source": [
        "$$detA_1 = (1 * (-4)) - (-2) * 7 = -4 + 14 = 10$$"
      ]
    },
    {
      "cell_type": "code",
      "execution_count": 11,
      "id": "e152405a",
      "metadata": {
        "id": "e152405a",
        "outputId": "41af5454-43c0-4482-db26-5a8f27aaae83",
        "colab": {
          "base_uri": "https://localhost:8080/"
        }
      },
      "outputs": [
        {
          "output_type": "execute_result",
          "data": {
            "text/plain": [
              "9.999999999999998"
            ]
          },
          "metadata": {},
          "execution_count": 11
        }
      ],
      "source": [
        "A_1 = np.array([[1, -2], [7, -4]])\n",
        "np.linalg.det(A_1)"
      ]
    },
    {
      "cell_type": "markdown",
      "id": "21ec2970",
      "metadata": {
        "id": "21ec2970"
      },
      "source": [
        "$$detA_2 = (1 * 7) - 1 * 3 = 7 - 3 = 4$$"
      ]
    },
    {
      "cell_type": "code",
      "execution_count": 12,
      "id": "776ae160",
      "metadata": {
        "id": "776ae160",
        "outputId": "d7dfc0c7-9d4d-4f7a-c094-71670a7bf3a6",
        "colab": {
          "base_uri": "https://localhost:8080/"
        }
      },
      "outputs": [
        {
          "output_type": "execute_result",
          "data": {
            "text/plain": [
              "3.999999999999999"
            ]
          },
          "metadata": {},
          "execution_count": 12
        }
      ],
      "source": [
        "A_2 = np.array([[1, 1], [3, 7]])\n",
        "np.linalg.det(A_2)"
      ]
    },
    {
      "cell_type": "markdown",
      "id": "043f6070",
      "metadata": {
        "id": "043f6070"
      },
      "source": [
        "$$x_{1}=\\frac{10}{2} = 5$$\n"
      ]
    },
    {
      "cell_type": "code",
      "source": [],
      "metadata": {
        "id": "29_mLjzYIdEu"
      },
      "id": "29_mLjzYIdEu",
      "execution_count": null,
      "outputs": []
    },
    {
      "cell_type": "code",
      "execution_count": 13,
      "id": "2aae6623",
      "metadata": {
        "id": "2aae6623",
        "outputId": "caedc603-af68-4611-b8c9-6517d2b88739",
        "colab": {
          "base_uri": "https://localhost:8080/"
        }
      },
      "outputs": [
        {
          "output_type": "execute_result",
          "data": {
            "text/plain": [
              "4.999999999999998"
            ]
          },
          "metadata": {},
          "execution_count": 13
        }
      ],
      "source": [
        "np.linalg.det(A_1) / np.linalg.det(A)"
      ]
    },
    {
      "cell_type": "markdown",
      "id": "cc84325e",
      "metadata": {
        "id": "cc84325e"
      },
      "source": [
        "$$x_{2}=\\frac{4}{2} = 2$$"
      ]
    },
    {
      "cell_type": "code",
      "execution_count": null,
      "id": "a666734a",
      "metadata": {
        "id": "a666734a",
        "outputId": "363639ed-a6b6-49ae-86cb-5a7bc31187a9"
      },
      "outputs": [
        {
          "data": {
            "text/plain": [
              "1.9999999999999991"
            ]
          },
          "execution_count": 188,
          "metadata": {},
          "output_type": "execute_result"
        }
      ],
      "source": [
        "np.linalg.det(A_2) / np.linalg.det(A)"
      ]
    },
    {
      "cell_type": "markdown",
      "id": "67e07ebb",
      "metadata": {
        "id": "67e07ebb"
      },
      "source": [
        "__Ответ:__\n",
        "\n",
        "x1 = 5, x2 = 2"
      ]
    },
    {
      "cell_type": "markdown",
      "id": "bc48f3a2",
      "metadata": {
        "id": "bc48f3a2"
      },
      "source": [
        "   б) $\\begin{cases}\n",
        "2x_{1}-x_{2}+5x_{3}=10 \\\\\n",
        "x_{1}+x_{2}-3x_{3}=-2 \\\\\n",
        "2x_{1}+4x_{2}+x_{3}=1\n",
        "\\end{cases}$"
      ]
    },
    {
      "cell_type": "markdown",
      "id": "ad2e533f",
      "metadata": {
        "id": "ad2e533f"
      },
      "source": [
        "$$\\tilde{A}=\\begin{pmatrix}\n",
        "\\left.\\begin{matrix}\n",
        "2 & -1 & 5\\\\\n",
        "1 & 1 & -3\\\\\n",
        "2 & 4 & 1\\\\\n",
        "\\end{matrix}\\right|\n",
        "\\begin{matrix}\n",
        "10\\\\\n",
        "-2\\\\\n",
        "1\n",
        "\\end{matrix}\n",
        "\\end{pmatrix}.$$"
      ]
    },
    {
      "cell_type": "markdown",
      "id": "0d2fe857",
      "metadata": {
        "id": "0d2fe857"
      },
      "source": [
        "$$x_{i}=\\frac{detA_{i}}{detA},$$"
      ]
    },
    {
      "cell_type": "markdown",
      "id": "2948387a",
      "metadata": {
        "id": "2948387a"
      },
      "source": [
        "$$detA = 2 (1 + 12) + 1 (1 + 6) + 5 (4 - 2) = 42$$"
      ]
    },
    {
      "cell_type": "code",
      "execution_count": null,
      "id": "e6144c67",
      "metadata": {
        "id": "e6144c67",
        "outputId": "46c589f7-ac71-426d-ce1c-db11a05f2ea6"
      },
      "outputs": [
        {
          "data": {
            "text/plain": [
              "42.99999999999998"
            ]
          },
          "execution_count": 189,
          "metadata": {},
          "output_type": "execute_result"
        }
      ],
      "source": [
        "A = np.array([[2,-1, 5], [1, 1, -3], [2, 4, 1]])\n",
        "np.linalg.det(A)"
      ]
    },
    {
      "cell_type": "code",
      "execution_count": null,
      "id": "24d50657",
      "metadata": {
        "id": "24d50657",
        "outputId": "967f15d8-19a9-4918-d38c-4ed2c8c6f240"
      },
      "outputs": [
        {
          "data": {
            "text/plain": [
              "86.00000000000004"
            ]
          },
          "execution_count": 190,
          "metadata": {},
          "output_type": "execute_result"
        }
      ],
      "source": [
        "A_1 = np.array([[10,-1, 5], [-2, 1, -3], [1, 4, 1]])\n",
        "np.linalg.det(A_1)"
      ]
    },
    {
      "cell_type": "code",
      "execution_count": null,
      "id": "701b901f",
      "metadata": {
        "id": "701b901f",
        "outputId": "10d2ca8a-921b-4b2a-9043-f5733d860409"
      },
      "outputs": [
        {
          "data": {
            "text/plain": [
              "-43.000000000000014"
            ]
          },
          "execution_count": 191,
          "metadata": {},
          "output_type": "execute_result"
        }
      ],
      "source": [
        "A_2 = np.array([[2, 10, 5], [1, -2, -3], [2, 1, 1]])\n",
        "np.linalg.det(A_2)"
      ]
    },
    {
      "cell_type": "code",
      "execution_count": null,
      "id": "0fa4eeb9",
      "metadata": {
        "id": "0fa4eeb9",
        "outputId": "31147cfc-8a47-4cce-fc0e-90a0b1858896"
      },
      "outputs": [
        {
          "data": {
            "text/plain": [
              "43.0"
            ]
          },
          "execution_count": 192,
          "metadata": {},
          "output_type": "execute_result"
        }
      ],
      "source": [
        "A_3 = np.array([[2,-1, 10], [1, 1, -2], [2, 4, 1]])\n",
        "np.linalg.det(A_3)"
      ]
    },
    {
      "cell_type": "code",
      "execution_count": null,
      "id": "e2e24dd0",
      "metadata": {
        "id": "e2e24dd0",
        "outputId": "b52e43c3-d861-4c79-9d30-9f3681ab8379"
      },
      "outputs": [
        {
          "data": {
            "text/plain": [
              "2.0000000000000018"
            ]
          },
          "execution_count": 193,
          "metadata": {},
          "output_type": "execute_result"
        }
      ],
      "source": [
        "x_1  = np.linalg.det(A_1)/ np.linalg.det(A)\n",
        "x_1"
      ]
    },
    {
      "cell_type": "code",
      "execution_count": null,
      "id": "80575c34",
      "metadata": {
        "id": "80575c34",
        "outputId": "0cba4c2c-81b2-473f-d7cc-0f5fe93b4580"
      },
      "outputs": [
        {
          "data": {
            "text/plain": [
              "-1.0000000000000009"
            ]
          },
          "execution_count": 194,
          "metadata": {},
          "output_type": "execute_result"
        }
      ],
      "source": [
        "x_2  = np.linalg.det(A_2)/ np.linalg.det(A)\n",
        "x_2"
      ]
    },
    {
      "cell_type": "code",
      "execution_count": null,
      "id": "1abe0570",
      "metadata": {
        "id": "1abe0570",
        "outputId": "d8fdb828-97c0-47cc-b4e0-5ad01b012f2a"
      },
      "outputs": [
        {
          "data": {
            "text/plain": [
              "1.0000000000000004"
            ]
          },
          "execution_count": 195,
          "metadata": {},
          "output_type": "execute_result"
        }
      ],
      "source": [
        "x_3  = np.linalg.det(A_3)/ np.linalg.det(A)\n",
        "x_3"
      ]
    },
    {
      "cell_type": "markdown",
      "id": "3c959475",
      "metadata": {
        "id": "3c959475"
      },
      "source": [
        "Подставим полученные значения в исходное уравнение:\n",
        "\n",
        "$ 2 * 2 -(-1)+5 * 1 =10$\n",
        "\n",
        "$ 4 + 1 +5 * 1 =10$\n",
        "\n",
        "Равенство выполняется."
      ]
    },
    {
      "cell_type": "markdown",
      "id": "d3719541",
      "metadata": {
        "id": "d3719541"
      },
      "source": [
        "__Ответ:__\n",
        "\n",
        "x1 = 2, x2 = -1, x3 = 1"
      ]
    },
    {
      "cell_type": "markdown",
      "id": "576ed1e3",
      "metadata": {
        "id": "576ed1e3"
      },
      "source": [
        "\n",
        "__2*.__ Найдите $L$-матрицу $LU$-разложения для матрицы коэффициентов:\n",
        "\n",
        "   а)$$\\begin{pmatrix}\n",
        "1 & 2 & 4 \\\\\n",
        "2 & 9 & 12 \\\\\n",
        "3 & 26 & 30\n",
        "\\end{pmatrix}$$\n",
        "    \n",
        "   б)$$\\begin{pmatrix}\n",
        "1 & 1 & 2 & 4\\\\\n",
        "2 & 5 & 8 & 9\\\\\n",
        "3 & 18 & 29 & 18\\\\\n",
        "4 & 22 & 53 & 33\n",
        "\\end{pmatrix}$$"
      ]
    },
    {
      "cell_type": "markdown",
      "id": "9094039b",
      "metadata": {
        "id": "9094039b"
      },
      "source": [
        "__Решение__\n",
        "\n",
        "   а)$$\\begin{pmatrix}\n",
        "1 & 2 & 4 \\\\\n",
        "2 & 9 & 12 \\\\\n",
        "3 & 26 & 30\n",
        "\\end{pmatrix}$$"
      ]
    },
    {
      "cell_type": "markdown",
      "id": "8c4c6603",
      "metadata": {
        "id": "8c4c6603"
      },
      "source": [
        "__Теорема__\n",
        "\n",
        "Пусть дана квадратная матрица $A$ порядка $n$, и $A_{k}$ — главный минор этой матрицы, составленный из первых $k$ строк и столбцов. Если $det(A_{k})\\neq0$ для $k=1,2...,n-1$, тогда существует единственная нижняя треугольная матрица $L=(l_{ij})$, где $l_{11}=l_{22}=...=l_{nn}=1$, и единственная верхняя треугольная матрица $U=(u_{ij})$, что $LU=A$. Более того, $det(A)=u_{11}\\cdot u_{22}\\cdot...\\cdot u_{nn}$."
      ]
    },
    {
      "cell_type": "markdown",
      "id": "4ae8d13e",
      "metadata": {
        "id": "4ae8d13e"
      },
      "source": [
        "Представление матрицы системы уравнений $A$ в виде произведения $LU$ считается основной идеей гауссовских схем исключения, так как система $Ax=b$ может быть записана как:\n",
        "\n",
        "$$LUx=b$$\n",
        "\n",
        "и сводится к двум системам с треугольными матрицами."
      ]
    },
    {
      "cell_type": "markdown",
      "id": "6cc42291",
      "metadata": {
        "id": "6cc42291"
      },
      "source": [
        "$L$ - нижняя треугольная матрица, $U$ - верхнетреугольная матрица, получаемая путем классического метода Гаусса."
      ]
    },
    {
      "cell_type": "markdown",
      "id": "e3f8f943",
      "metadata": {
        "id": "e3f8f943"
      },
      "source": [
        "Верхняя треугольная матрица $U$ получается путём прямого хода метода Гаусса.\n",
        "\n",
        "Повторяя алгоритм из предыдущего урока, если $a_{11}\\neq0$, на первом шаге умножаем первое уравнение на\n",
        "\n",
        "$$m_{i1}=\\frac{a_{i1}}{a_{11}}$$\n",
        "\n",
        "и вычитаем его из $i$-го ($i=2,3,4$).\n",
        "\n",
        "В итоге получаем эквивалентную систему\n",
        "\n",
        "$$\\begin{pmatrix}\n",
        "a_{11} & a_{12} & a_{13} & a_{14}\\\\\n",
        "0 & a_{22}^{(1)} & a_{23}^{(1)} & a_{24}^{(1)}\\\\\n",
        "0 & a_{32}^{(1)} & a_{33}^{(1)} & a_{34}^{(1)}\\\\\n",
        "0 & a_{42}^{(1)} & a_{43}^{(1)} & a_{44}^{(1)}\\\\\n",
        "\\end{pmatrix}\n",
        "\\begin{pmatrix}\n",
        "x_{1}\\\\\n",
        "x_{2}\\\\\n",
        "x_{3}\\\\\n",
        "x_{4}\\\\\n",
        "\\end{pmatrix}=\n",
        "\\begin{pmatrix}\n",
        "b_{1}\\\\\n",
        "b_{2}^{1}\\\\\n",
        "b_{3}^{1}\\\\\n",
        "b_{4}^{1}\\\\\n",
        "\\end{pmatrix},$$\n",
        "\n",
        "где:\n",
        "\n",
        "$$a_{ij}^{(1)}=a_{ij}-a_{1j}\\frac{a_{i1}}{a_{11}}~~~~(i,j\\geq2),$$\n",
        "$$b_{i}^{(1)}=b_{i}-b_{1}\\frac{a_{i1}}{a_{11}}.$$"
      ]
    },
    {
      "cell_type": "markdown",
      "id": "af3fec86",
      "metadata": {
        "id": "af3fec86"
      },
      "source": [
        "$L$ находится следующим образом:\n",
        "\n",
        "$$L=\\begin{pmatrix}\n",
        "1 & 0 & 0 & 0\\\\\n",
        "m_{21} & 1 & 0 & 0\\\\\n",
        "m_{31} & m_{32} & 1 & 0\\\\\n",
        "m_{41} & m_{42} & m_{43} & 1\\\\\n",
        "\\end{pmatrix}.$$"
      ]
    },
    {
      "cell_type": "markdown",
      "id": "7c5d711c",
      "metadata": {
        "id": "7c5d711c"
      },
      "source": [
        "Проделаем эти операции. Найдем матрицу $U$ и соответствующие коэффициенты."
      ]
    },
    {
      "cell_type": "markdown",
      "id": "33f018b8",
      "metadata": {
        "id": "33f018b8"
      },
      "source": [
        "$$\\begin{pmatrix}\n",
        "1 & 2 & 4 \\\\\n",
        "2 & 9 & 12 \\\\\n",
        "3 & 26 & 30\n",
        "\\end{pmatrix}$$"
      ]
    },
    {
      "cell_type": "markdown",
      "id": "afe0b2e2",
      "metadata": {
        "id": "afe0b2e2"
      },
      "source": [
        "Отнимем из второй строки первую умноженную на 2, то есть $m_{21} = 2$\n",
        "\n",
        "$$\\begin{pmatrix}\n",
        "1 & 2 & 4 \\\\\n",
        "0 & 5 & 4 \\\\\n",
        "3 & 26 & 30\n",
        "\\end{pmatrix}$$"
      ]
    },
    {
      "cell_type": "markdown",
      "id": "828a0622",
      "metadata": {
        "id": "828a0622"
      },
      "source": [
        "Отнимем из третьей строки первую умноженную на 3, то есть $m_{31} = 3$\n",
        "\n",
        "$$\\begin{pmatrix}\n",
        "1 & 2 & 4 \\\\\n",
        "0 & 5 & 4 \\\\\n",
        "0 & 20 & 18\n",
        "\\end{pmatrix}$$"
      ]
    },
    {
      "cell_type": "markdown",
      "id": "e78c1f58",
      "metadata": {
        "id": "e78c1f58"
      },
      "source": [
        "Отнимем из третьей строки вторую умноженную на 4, то есть $m_{32} = 4$\n",
        "\n",
        "$$\\begin{pmatrix}\n",
        "1 & 2 & 4 \\\\\n",
        "0 & 5 & 4 \\\\\n",
        "0 & 0 & 2\n",
        "\\end{pmatrix}$$"
      ]
    },
    {
      "cell_type": "markdown",
      "id": "cf34aefc",
      "metadata": {
        "id": "cf34aefc"
      },
      "source": [
        "Получили матрицу $U$:\n",
        "\n",
        "$$\\begin{pmatrix}\n",
        "1 & 2 & 4 \\\\\n",
        "0 & 5 & 4 \\\\\n",
        "0 & 0 & 2\n",
        "\\end{pmatrix}$$"
      ]
    },
    {
      "cell_type": "markdown",
      "id": "9c9e2c5f",
      "metadata": {
        "id": "9c9e2c5f"
      },
      "source": [
        "Найдем матрицу $L$:\n",
        "\n",
        "$$\\begin{pmatrix}\n",
        "1 & 0 & 0 \\\\\n",
        "2 & 1 & 0 \\\\\n",
        "3 & 4 & 1\n",
        "\\end{pmatrix}$$"
      ]
    },
    {
      "cell_type": "markdown",
      "id": "ffade1b2",
      "metadata": {
        "id": "ffade1b2"
      },
      "source": [
        "$$A=LU.$$\n",
        "\n",
        "Проверим на практике - все верно."
      ]
    },
    {
      "cell_type": "code",
      "execution_count": 14,
      "id": "b24d5c7a",
      "metadata": {
        "id": "b24d5c7a",
        "outputId": "828a95da-17a1-4e85-d129-cff22b7a4ba7",
        "colab": {
          "base_uri": "https://localhost:8080/"
        }
      },
      "outputs": [
        {
          "output_type": "execute_result",
          "data": {
            "text/plain": [
              "array([[ 1,  2,  4],\n",
              "       [ 2,  9, 12],\n",
              "       [ 3, 26, 30]])"
            ]
          },
          "metadata": {},
          "execution_count": 14
        }
      ],
      "source": [
        "L = np.array([[1, 0, 0], [2, 1, 0], [3, 4, 1]])\n",
        "U = np.array([[1, 2, 4], [0, 5, 4], [0, 0, 2]])\n",
        "np.dot(L, U)"
      ]
    },
    {
      "cell_type": "markdown",
      "id": "bbc41215",
      "metadata": {
        "id": "bbc41215"
      },
      "source": [
        "   б)$$\\begin{pmatrix}\n",
        "1 & 1 & 2 & 4\\\\\n",
        "2 & 5 & 8 & 9\\\\\n",
        "3 & 18 & 29 & 18\\\\\n",
        "4 & 22 & 53 & 33\n",
        "\\end{pmatrix}$$"
      ]
    },
    {
      "cell_type": "markdown",
      "id": "3ea25789",
      "metadata": {
        "id": "3ea25789"
      },
      "source": [
        "Найдем матрицу $U$ и соответствующие коэффициенты.\n",
        "\n",
        "$$\\begin{pmatrix}\n",
        "1 & 1 & 2 & 4\\\\\n",
        "2 & 5 & 8 & 9\\\\\n",
        "3 & 18 & 29 & 18\\\\\n",
        "4 & 22 & 53 & 33\n",
        "\\end{pmatrix}$$"
      ]
    },
    {
      "cell_type": "markdown",
      "id": "46b47138",
      "metadata": {
        "id": "46b47138"
      },
      "source": [
        "Для экономии времени воспользуемся Python"
      ]
    },
    {
      "cell_type": "code",
      "execution_count": 15,
      "id": "8db3ae1f",
      "metadata": {
        "id": "8db3ae1f"
      },
      "outputs": [],
      "source": [
        "A = np.array([[1, 1, 2, 4], [2, 5, 8, 9], [3, 18, 29, 18], [4, 22, 53, 33]])"
      ]
    },
    {
      "cell_type": "code",
      "execution_count": 16,
      "id": "36869496",
      "metadata": {
        "id": "36869496",
        "outputId": "7849d906-79c4-462a-ec32-386f51c83df9",
        "colab": {
          "base_uri": "https://localhost:8080/"
        }
      },
      "outputs": [
        {
          "output_type": "execute_result",
          "data": {
            "text/plain": [
              "array([[ 1,  1,  2,  4],\n",
              "       [ 0,  3,  4,  1],\n",
              "       [ 3, 18, 29, 18],\n",
              "       [ 4, 22, 53, 33]])"
            ]
          },
          "metadata": {},
          "execution_count": 16
        }
      ],
      "source": [
        "# Отнимем из второй строки первую умноженную на 2, то есть m_21 = 2\n",
        "A[1,] = A[1,] - A[0,]*2\n",
        "A"
      ]
    },
    {
      "cell_type": "code",
      "execution_count": 17,
      "id": "9477d29d",
      "metadata": {
        "id": "9477d29d",
        "outputId": "e2b9fe63-92c2-43de-dbf2-c9a00b1d003e",
        "colab": {
          "base_uri": "https://localhost:8080/"
        }
      },
      "outputs": [
        {
          "output_type": "execute_result",
          "data": {
            "text/plain": [
              "array([[ 1,  1,  2,  4],\n",
              "       [ 0,  3,  4,  1],\n",
              "       [ 0, 15, 23,  6],\n",
              "       [ 4, 22, 53, 33]])"
            ]
          },
          "metadata": {},
          "execution_count": 17
        }
      ],
      "source": [
        "# Отнимем из третьей строки первую, умноженную на 3, то есть m_31 = 3\n",
        "A[2,] = A[2,] - A[0,]*3\n",
        "A"
      ]
    },
    {
      "cell_type": "code",
      "execution_count": 18,
      "id": "b899b8f0",
      "metadata": {
        "id": "b899b8f0",
        "outputId": "f8f697e7-74bc-42eb-900e-f4c0e3ccfd75",
        "colab": {
          "base_uri": "https://localhost:8080/"
        }
      },
      "outputs": [
        {
          "output_type": "execute_result",
          "data": {
            "text/plain": [
              "array([[ 1,  1,  2,  4],\n",
              "       [ 0,  3,  4,  1],\n",
              "       [ 0, 15, 23,  6],\n",
              "       [ 0, 18, 45, 17]])"
            ]
          },
          "metadata": {},
          "execution_count": 18
        }
      ],
      "source": [
        "# Отнимем из четвертой строки первую, умноженную на 4, то есть m_41 = 4\n",
        "A[3,] = A[3,] - A[0,]*4\n",
        "A"
      ]
    },
    {
      "cell_type": "code",
      "execution_count": null,
      "id": "5c2a39b0",
      "metadata": {
        "id": "5c2a39b0",
        "outputId": "344c6de8-a731-4567-d03a-4731776b328b"
      },
      "outputs": [
        {
          "data": {
            "text/plain": [
              "array([[ 1,  1,  2,  4],\n",
              "       [ 0,  3,  4,  1],\n",
              "       [ 0,  0,  3,  1],\n",
              "       [ 0, 18, 45, 17]])"
            ]
          },
          "execution_count": 201,
          "metadata": {},
          "output_type": "execute_result"
        }
      ],
      "source": [
        "# Отнимем из третьей строки вторую, умноженную на 5, то есть m_32 = 5\n",
        "A[2,] = A[2,] - A[1,]*5\n",
        "A"
      ]
    },
    {
      "cell_type": "code",
      "execution_count": 19,
      "id": "83051496",
      "metadata": {
        "id": "83051496",
        "outputId": "cdef89f9-d3d2-44f7-ed4e-816f342c1a76",
        "colab": {
          "base_uri": "https://localhost:8080/"
        }
      },
      "outputs": [
        {
          "output_type": "execute_result",
          "data": {
            "text/plain": [
              "array([[ 1,  1,  2,  4],\n",
              "       [ 0,  3,  4,  1],\n",
              "       [ 0, 15, 23,  6],\n",
              "       [ 0,  0, 21, 11]])"
            ]
          },
          "metadata": {},
          "execution_count": 19
        }
      ],
      "source": [
        "# Отнимем из четвертой строки вторую, умноженную на 6, то есть m_42 = 6\n",
        "A[3,] = A[3,] - A[1,]*6\n",
        "A"
      ]
    },
    {
      "cell_type": "code",
      "execution_count": 20,
      "id": "82b0fc84",
      "metadata": {
        "id": "82b0fc84",
        "outputId": "6706e1fc-c2bf-4d66-e718-49230f09eeb6",
        "colab": {
          "base_uri": "https://localhost:8080/"
        }
      },
      "outputs": [
        {
          "output_type": "execute_result",
          "data": {
            "text/plain": [
              "array([[   1,    1,    2,    4],\n",
              "       [   0,    3,    4,    1],\n",
              "       [   0,   15,   23,    6],\n",
              "       [   0, -105, -140,  -31]])"
            ]
          },
          "metadata": {},
          "execution_count": 20
        }
      ],
      "source": [
        "# Отнимем из четвертой строки третью, умноженную на 7, то есть m_43 = 7\n",
        "A[3,] = A[3,] - A[2,]*7\n",
        "A"
      ]
    },
    {
      "cell_type": "code",
      "execution_count": 21,
      "id": "89c45899",
      "metadata": {
        "id": "89c45899",
        "outputId": "a4c58d50-e501-4be5-c34a-a45055daef9f",
        "colab": {
          "base_uri": "https://localhost:8080/"
        }
      },
      "outputs": [
        {
          "output_type": "execute_result",
          "data": {
            "text/plain": [
              "array([[   1,    1,    2,    4],\n",
              "       [   0,    3,    4,    1],\n",
              "       [   0,   15,   23,    6],\n",
              "       [   0, -105, -140,  -31]])"
            ]
          },
          "metadata": {},
          "execution_count": 21
        }
      ],
      "source": [
        "#U матрица готова\n",
        "U = A\n",
        "U"
      ]
    },
    {
      "cell_type": "code",
      "execution_count": 22,
      "id": "02dfa28f",
      "metadata": {
        "id": "02dfa28f",
        "outputId": "47ddbbaf-0de5-4847-b1b4-3f2435404db7",
        "colab": {
          "base_uri": "https://localhost:8080/"
        }
      },
      "outputs": [
        {
          "output_type": "execute_result",
          "data": {
            "text/plain": [
              "array([[1, 0, 0, 0],\n",
              "       [2, 1, 0, 0],\n",
              "       [3, 5, 1, 0],\n",
              "       [4, 6, 7, 1]])"
            ]
          },
          "metadata": {},
          "execution_count": 22
        }
      ],
      "source": [
        "#теперь построим L матрицу с помощью коэффициентов\n",
        "\n",
        "L = np.array([[1, 0, 0, 0], [2, 1, 0, 0], [3, 5, 1, 0], [4, 6, 7, 1]])\n",
        "L"
      ]
    },
    {
      "cell_type": "code",
      "execution_count": 23,
      "id": "03b9b47e",
      "metadata": {
        "id": "03b9b47e",
        "outputId": "fbe5d203-f6c7-4640-aedf-94c86fcd80e9",
        "colab": {
          "base_uri": "https://localhost:8080/"
        }
      },
      "outputs": [
        {
          "output_type": "execute_result",
          "data": {
            "text/plain": [
              "array([[ 1,  1,  2,  4],\n",
              "       [ 2,  5,  8,  9],\n",
              "       [ 3, 33, 49, 23],\n",
              "       [ 4, 22, 53, 33]])"
            ]
          },
          "metadata": {},
          "execution_count": 23
        }
      ],
      "source": [
        "A = np.dot(L, U)\n",
        "A"
      ]
    },
    {
      "cell_type": "code",
      "execution_count": 24,
      "id": "325c33f7",
      "metadata": {
        "id": "325c33f7",
        "outputId": "f763ab98-060d-47eb-8782-12b50bbb6093",
        "colab": {
          "base_uri": "https://localhost:8080/"
        }
      },
      "outputs": [
        {
          "output_type": "execute_result",
          "data": {
            "text/plain": [
              "array([[1, 0, 0, 0],\n",
              "       [2, 1, 0, 0],\n",
              "       [3, 5, 1, 0],\n",
              "       [4, 6, 7, 1]])"
            ]
          },
          "metadata": {},
          "execution_count": 24
        }
      ],
      "source": [
        "#Итог, L матрица получилась следующей:\n",
        "L"
      ]
    },
    {
      "cell_type": "markdown",
      "id": "35a803bf",
      "metadata": {
        "id": "35a803bf"
      },
      "source": [
        "__3*.__ Решите систему линейных уравнений методом $LU$-разложения:\n",
        "\n",
        "$$\\begin{cases}\n",
        "2x_{1}+x_{2}+3x_{3}=1 \\\\\n",
        "11x_{1}+7x_{2}+5x_{3}=-6 \\\\\n",
        "9x_{1}+8x_{2}+4x_{3}=-5\n",
        "\\end{cases}$$"
      ]
    },
    {
      "cell_type": "markdown",
      "id": "028251e3",
      "metadata": {
        "id": "028251e3"
      },
      "source": [
        "__Решение__\n",
        "\n",
        "Матрица коэффициентов $A$ примет вид:\n",
        "\n",
        "$$\\begin{pmatrix}\n",
        "2 & 1 & 3 \\\\\n",
        "11 & 7 & 5 \\\\\n",
        "9 & 8 & 4\n",
        "\\end{pmatrix}.$$"
      ]
    },
    {
      "cell_type": "code",
      "execution_count": 25,
      "id": "c7b2e6d3",
      "metadata": {
        "id": "c7b2e6d3",
        "outputId": "277e6c05-e5a8-4e2c-bc7b-42947dcd433f",
        "colab": {
          "base_uri": "https://localhost:8080/"
        }
      },
      "outputs": [
        {
          "output_type": "execute_result",
          "data": {
            "text/plain": [
              "array([[ 2.,  1.,  3.],\n",
              "       [11.,  7.,  5.],\n",
              "       [ 9.,  8.,  4.]])"
            ]
          },
          "metadata": {},
          "execution_count": 25
        }
      ],
      "source": [
        "#Найдем U-матрицу путем прямого хода Гаусса.\n",
        "A = np.array([[2, 1, 3], [11, 7, 5], [9, 8, 4]], dtype=np.float64)\n",
        "A"
      ]
    },
    {
      "cell_type": "code",
      "execution_count": 26,
      "id": "cebcd40a",
      "metadata": {
        "id": "cebcd40a",
        "outputId": "b0b8363b-78be-4ae8-af4d-cb0f7642f55c",
        "colab": {
          "base_uri": "https://localhost:8080/"
        }
      },
      "outputs": [
        {
          "output_type": "execute_result",
          "data": {
            "text/plain": [
              "array([[  2. ,   1. ,   3. ],\n",
              "       [  0. ,   1.5, -11.5],\n",
              "       [  9. ,   8. ,   4. ]])"
            ]
          },
          "metadata": {},
          "execution_count": 26
        }
      ],
      "source": [
        "#разделим первую строку на 2 и домножим на 11 и отнимем от второй m21 = 11/2\n",
        "A[1,] = A[1,] - (A[0,]*11/2)\n",
        "A"
      ]
    },
    {
      "cell_type": "code",
      "execution_count": 27,
      "id": "1932f646",
      "metadata": {
        "id": "1932f646",
        "outputId": "4dfd7f67-0c95-443b-dd2a-940843f76fa9",
        "colab": {
          "base_uri": "https://localhost:8080/"
        }
      },
      "outputs": [
        {
          "output_type": "execute_result",
          "data": {
            "text/plain": [
              "array([[  2. ,   1. ,   3. ],\n",
              "       [  0. ,   1.5, -11.5],\n",
              "       [  0. ,   3.5,  -9.5]])"
            ]
          },
          "metadata": {},
          "execution_count": 27
        }
      ],
      "source": [
        "#разделим первую строку на 2 и домножим на 9 и отнимем от третьей m31 = 9/2\n",
        "A[2,] = A[2,] - (A[0,]*9/2)\n",
        "A"
      ]
    },
    {
      "cell_type": "code",
      "execution_count": 29,
      "id": "3793143e",
      "metadata": {
        "id": "3793143e",
        "outputId": "94b3faff-4469-4b59-8310-39a30fd76e21",
        "colab": {
          "base_uri": "https://localhost:8080/"
        }
      },
      "outputs": [
        {
          "output_type": "execute_result",
          "data": {
            "text/plain": [
              "array([[  2.        ,   1.        ,   3.        ],\n",
              "       [  0.        ,   1.5       , -11.5       ],\n",
              "       [  0.        ,   0.        ,  17.33333333]])"
            ]
          },
          "metadata": {},
          "execution_count": 29
        }
      ],
      "source": [
        "#разделим вторую строку на 1,5 и домножим на 3,5 и отнимем от третьей m32 = 3.5/1.5\n",
        "A[2,] = A[2,] - (A[1,]*3.5/1.5)\n",
        "A"
      ]
    },
    {
      "cell_type": "code",
      "execution_count": 30,
      "id": "c49c42c4",
      "metadata": {
        "id": "c49c42c4",
        "outputId": "292698bf-8b10-421b-f0cd-5cb45666a288",
        "colab": {
          "base_uri": "https://localhost:8080/"
        }
      },
      "outputs": [
        {
          "output_type": "execute_result",
          "data": {
            "text/plain": [
              "array([[  2.        ,   1.        ,   3.        ],\n",
              "       [  0.        ,   1.5       , -11.5       ],\n",
              "       [  0.        ,   0.        ,  17.33333333]])"
            ]
          },
          "metadata": {},
          "execution_count": 30
        }
      ],
      "source": [
        "# U матрица готова\n",
        "U = A\n",
        "U"
      ]
    },
    {
      "cell_type": "code",
      "execution_count": 31,
      "id": "f76df4ea",
      "metadata": {
        "id": "f76df4ea",
        "outputId": "ea91c410-e66b-4bde-a0fb-0a3092fc8379",
        "colab": {
          "base_uri": "https://localhost:8080/"
        }
      },
      "outputs": [
        {
          "output_type": "execute_result",
          "data": {
            "text/plain": [
              "array([[1.        , 0.        , 0.        ],\n",
              "       [5.5       , 1.        , 0.        ],\n",
              "       [4.5       , 2.33333333, 1.        ]])"
            ]
          },
          "metadata": {},
          "execution_count": 31
        }
      ],
      "source": [
        "#построим L матрицу\n",
        "L = np.array([[1, 0, 0], [11/2, 1, 0], [9/2, 3.5/1.5, 1]], dtype=np.float64)\n",
        "L"
      ]
    },
    {
      "cell_type": "code",
      "execution_count": 32,
      "id": "364c64f6",
      "metadata": {
        "id": "364c64f6",
        "outputId": "c6fbf301-9527-4cb1-e9da-a63904869dc1",
        "colab": {
          "base_uri": "https://localhost:8080/"
        }
      },
      "outputs": [
        {
          "output_type": "execute_result",
          "data": {
            "text/plain": [
              "array([[ 2.,  1.,  3.],\n",
              "       [11.,  7.,  5.],\n",
              "       [ 9.,  8.,  4.]])"
            ]
          },
          "metadata": {},
          "execution_count": 32
        }
      ],
      "source": [
        "#проверяем\n",
        "np.dot(L, U)"
      ]
    },
    {
      "cell_type": "markdown",
      "id": "4e87b4ee",
      "metadata": {
        "id": "4e87b4ee"
      },
      "source": [
        "Теперь решим систему:\n",
        "\n",
        "$$Ly=b:$$\n",
        "\n",
        "$$\\begin{cases}\n",
        "y_{1}=1, \\\\\n",
        "5.5y_{1}+y_{2}=-6, \\\\\n",
        "4.5y_{1}+ 2.33y_{2}+y_{3}=-5.\n",
        "\\end{cases}$$\n",
        "\n",
        "$$y_{1}=1,$$\n",
        "$$y_{2}=-11.5,$$\n",
        "$$y_{3}=17.295.$$"
      ]
    },
    {
      "cell_type": "code",
      "execution_count": 33,
      "id": "a3d690fe",
      "metadata": {
        "id": "a3d690fe",
        "outputId": "28ab930d-7238-4cc3-c404-cad959c3ea3b",
        "colab": {
          "base_uri": "https://localhost:8080/"
        }
      },
      "outputs": [
        {
          "output_type": "execute_result",
          "data": {
            "text/plain": [
              "array([[  2.        ,   1.        ,   3.        ],\n",
              "       [  0.        ,   1.5       , -11.5       ],\n",
              "       [  0.        ,   0.        ,  17.33333333]])"
            ]
          },
          "metadata": {},
          "execution_count": 33
        }
      ],
      "source": [
        "U"
      ]
    },
    {
      "cell_type": "markdown",
      "id": "8036e923",
      "metadata": {
        "id": "8036e923"
      },
      "source": [
        "Затем систему:\n",
        "\n",
        "$$Ux=y:$$\n",
        "\n",
        "$$\\begin{cases}\n",
        "2x_{1}+x_{2}+ 3x_{3}=1, \\\\\n",
        "1.5x_{2} - 11.5x_{3}=-11.5, \\\\\n",
        "17.33x_{3}=17.295.\n",
        "\\end{cases}$$\n",
        "\n",
        "$$x_{3} \\approx 0,998 \\approx 1$$\n",
        "$$x_{2}\\approx 0,$$\n",
        "$$x_{1}\\approx -1.$$"
      ]
    },
    {
      "cell_type": "markdown",
      "id": "e49159e0",
      "metadata": {
        "id": "e49159e0"
      },
      "source": [
        "Подставим решение в исходную систему:\n",
        "\n",
        "$$\\begin{cases}\n",
        "2(-1)+ 0 +3 * 1 =1 \\\\\n",
        "11(-1)+7 * 0 +5 * 1 =-6 \\\\\n",
        "9(-1)+8 * 0 +4 * 1 = -5\n",
        "\\end{cases}$$\n",
        "\n",
        "Равенство выполняется."
      ]
    },
    {
      "cell_type": "markdown",
      "id": "5914b4c7",
      "metadata": {
        "id": "5914b4c7"
      },
      "source": [
        "__Ответ__\n",
        "$$x_{3} \\approx 0,998 \\approx 1$$\n",
        "$$x_{2}\\approx 0,$$\n",
        "$$x_{1}\\approx -1.$$"
      ]
    },
    {
      "cell_type": "markdown",
      "id": "53d459fc",
      "metadata": {
        "id": "53d459fc"
      },
      "source": [
        "\n",
        "__4*.__ Решите систему линейных уравнений методом Холецкого:\n",
        "\n",
        "$$\\begin{cases}\n",
        "81x_{1}-45x_{2}+45x_{3}=531 \\\\\n",
        "-45x_{1}+50x_{2}-15x_{3}=-460 \\\\\n",
        "45x_{1}-15x_{2}+38x_{3}=193\n",
        "\\end{cases}$$"
      ]
    },
    {
      "cell_type": "markdown",
      "id": "aacacc6c",
      "metadata": {
        "id": "aacacc6c"
      },
      "source": [
        "__Решение__"
      ]
    },
    {
      "cell_type": "markdown",
      "id": "dd2d06c9",
      "metadata": {
        "id": "dd2d06c9"
      },
      "source": [
        "$$\\begin{pmatrix}\n",
        "81 & -45 & 45 \\\\\n",
        "-45 & 50 & -15 \\\\\n",
        "45 & -15 & 38\n",
        "\\end{pmatrix}.$$"
      ]
    },
    {
      "cell_type": "markdown",
      "id": "21baf7f0",
      "metadata": {
        "id": "21baf7f0"
      },
      "source": [
        "Произведём разложение на $LL^{T}$:\n",
        "\n",
        "$$l_{11}=\\sqrt{a_{11}}=\\sqrt{81} = 9,$$\n",
        "$$l_{21}=\\frac{a_{21}}{l_{11}}=\\frac{-45}{9} = - 5,$$\n",
        "$$l_{31}=\\frac{a_{31}}{l_{11}}=\\frac{45}{9}=5,$$\n",
        "\n",
        "$$l_{22}=\\sqrt{a_{22}-l_{21}^{2}}=\\sqrt{50 - 25}= 5,$$\n",
        "$$l_{32}=\\frac{1}{l_{22}}\\left ( a_{32}-l_{21}l_{31} \\right)=\\frac{1}{5}\\left ( -15 - (-5)\\cdot 5 \\right )=2,$$\n",
        "\n",
        "$$l_{33}=\\sqrt{a_{33}-l_{31}^{2}-l_{32}^{2}}=\\sqrt{38-25-4}=3.$$\n"
      ]
    },
    {
      "cell_type": "markdown",
      "id": "0521da7e",
      "metadata": {
        "id": "0521da7e"
      },
      "source": [
        "Получили матрицу:\n",
        "\n",
        "$$L = \\begin{pmatrix}\n",
        "9 & 0 & 0 \\\\\n",
        "-5 & 5 & 0 \\\\\n",
        "5 & 2 & 3\n",
        "\\end{pmatrix},\n",
        "\\; \\;\n",
        "L^{T} = \\begin{pmatrix}\n",
        "9 & -5 & 5 \\\\\n",
        "0 & 5 & 2 \\\\\n",
        "0 & 0 & 3\n",
        "\\end{pmatrix}.$$"
      ]
    },
    {
      "cell_type": "markdown",
      "id": "df0d7ebd",
      "metadata": {
        "id": "df0d7ebd"
      },
      "source": [
        "Решим систему $Ly=b:$\n",
        "\n",
        "$$\\begin{cases}\n",
        "9y_{1}=531, \\\\\n",
        "-5y_{1}+5y_{2}=-460, \\\\\n",
        "5y_{1}+2y_{2}+3y_{3}=193.\n",
        "\\end{cases}$$\n",
        "\n",
        "$$y_{1} = 59,$$\n",
        "\n",
        "$$y_{2}=-33,$$\n",
        "\n",
        "$$y_{3}=-12.$$"
      ]
    },
    {
      "cell_type": "markdown",
      "id": "1ee4444c",
      "metadata": {
        "id": "1ee4444c"
      },
      "source": [
        "И решим систему $L^{T}x=y:$\n",
        "\n",
        "$$\\begin{cases}\n",
        "9x_{1}-5x_{2}+5x_{3}=59, \\\\\n",
        "5x_{2}+2x_{3}=-33, \\\\\n",
        "3x_{3}=-12.\n",
        "\\end{cases}$$\n",
        "\n",
        "$$x_{3}=-4,$$\n",
        "\n",
        "$$x_{2}=-5,$$\n",
        "\n",
        "$$x_{1}=6.$$"
      ]
    },
    {
      "cell_type": "markdown",
      "id": "49a78592",
      "metadata": {
        "id": "49a78592"
      },
      "source": [
        "Осуществим проверку, подставив полученные значения в исходную систему:\n",
        "\n",
        "$$\\begin{cases}\n",
        "81 \\cdot 6 -45 \\cdot (-5) +45 \\cdot (-4)=531 \\\\\n",
        "-45 \\cdot 6 +50 \\cdot (-5 ) - 15 \\cdot (-4) =-460 \\\\\n",
        "45  \\cdot 6 -15 \\cdot (-5) + 38  \\cdot (-4)=193\n",
        "\\end{cases}$$"
      ]
    },
    {
      "cell_type": "markdown",
      "id": "8ca455d2",
      "metadata": {
        "id": "8ca455d2"
      },
      "source": [
        "__Ответ__\n",
        "\n",
        "$$x_{3}=-4,$$\n",
        "\n",
        "$$x_{2}=-5,$$\n",
        "\n",
        "$$x_{1}=6.$$"
      ]
    },
    {
      "cell_type": "markdown",
      "id": "f4e73616",
      "metadata": {
        "id": "f4e73616"
      },
      "source": [
        "__5*.__ Напишите на Python программу с реализацией одного из изученных алгоритмов решения СЛАУ."
      ]
    },
    {
      "cell_type": "markdown",
      "id": "ebddda20",
      "metadata": {
        "id": "ebddda20"
      },
      "source": [
        "__Решение__\n",
        "\n",
        "Напишем реализацию метода Гаусса."
      ]
    },
    {
      "cell_type": "code",
      "execution_count": 34,
      "id": "25720427",
      "metadata": {
        "id": "25720427",
        "outputId": "22ff8c68-1c87-41fa-e869-5b2f994b6de9",
        "colab": {
          "base_uri": "https://localhost:8080/"
        }
      },
      "outputs": [
        {
          "output_type": "stream",
          "name": "stdout",
          "text": [
            "[[  1   3  -2   4   8   3]\n",
            " [  0   2   2  -3   0  -1]\n",
            " [  0   0  31 -49 -48 -24]\n",
            " [  0   0   0   9   9   1]\n",
            " [  0   0   0   0   3   6]]\n",
            "Cистема имеет единственное решение\n",
            "[1.2401433691756267, -2.6702508960573472, -0.6630824372759857, -1.8888888888888888, 2.0]\n"
          ]
        }
      ],
      "source": [
        "\"\"\"Класс для решения СЛАУ, которые имеют единственное решение, методом Гаусса\"\"\"\n",
        "class GaussMethod:\n",
        "    def __init__(self, A, b):\n",
        "        self.A = A\n",
        "        self.b = b\n",
        "        self.n = len(self.A)\n",
        "        self.A_hat = np.hstack((self.A, self.b))\n",
        "\n",
        "    \"\"\"Проверка совместности\"\"\"\n",
        "    def __consistency_check(self):\n",
        "        rnk_A = np.linalg.matrix_rank(self.A)\n",
        "        rnk_Ab = np.linalg.matrix_rank(np.hstack((self.A, self.b)))\n",
        "        #'Cистема несовместна'\n",
        "        if rnk_A < rnk_Ab:\n",
        "            return -1\n",
        "        #'Cистема имеет единственное решение'\n",
        "        elif rnk_A == rnk_Ab == self.n:\n",
        "            return 1\n",
        "        #'Cистема имеет бесконечное количество решений'\n",
        "        elif (rnk_A == rnk_Ab) and (rnk_A < self.n):\n",
        "            return 2\n",
        "\n",
        "    \"\"\"Получение верхнетреугольной матрицы\"\"\"\n",
        "    def _get_triangle_matrix(self):\n",
        "        if self.__consistency_check() == -1 or self.__consistency_check() == 2:\n",
        "            return -1\n",
        "        else:\n",
        "            M = self.A_hat.copy()\n",
        "            for j in range(0, len(M)-1):\n",
        "                for i in range(1, len(M)):\n",
        "                    if i + j < len(M):\n",
        "                        M[i+j, ] = M[i+j, ] - M[j, ] * (M[i+j, j] / M[j, j])\n",
        "            return M\n",
        "\n",
        "    \"\"\"Нахождение неизвестных методом обратного хода Гаусса\"\"\"\n",
        "    def gauss_reverse(self):\n",
        "        M = self._get_triangle_matrix()\n",
        "        if self.__consistency_check() == -1:\n",
        "            print('Cистема несовместна')\n",
        "            return -1\n",
        "        if self.__consistency_check() == 2:\n",
        "            print('Cистема имеет бесконечное количество решений')\n",
        "            return -1\n",
        "        elif self.__consistency_check() == 1:\n",
        "            print('Cистема имеет единственное решение')\n",
        "            M_short = M[:,:-1]\n",
        "            b_short = M[:,-1].reshape(-1, 1)\n",
        "            M_x = [0 for i in range(len(M_short))]\n",
        "            for i in reversed(range(len(M_short))):\n",
        "                x_str = M_short[i,]\n",
        "                c = 0\n",
        "                for idx, el in enumerate(x_str):\n",
        "                    if idx != i:\n",
        "                        c += el * M_x[idx]\n",
        "                x = (b_short[i] - c) / x_str[i]\n",
        "                M_x[i] = x[0]\n",
        "            return M_x\n",
        "\n",
        "\n",
        "# A = np.array([[2, 1, 3], [11, 7, 5], [9, 8, 4]], dtype=np.float64)\n",
        "# b = np.array([1, -6, 5], dtype=np.float64).reshape(-1, 1)\n",
        "\n",
        "# A = np.array([[2,-1, 5], [1, 1, -3], [2, 4, 1]], dtype=np.float64)\n",
        "# b = np.array([10, -2, 1], dtype=np.float64).reshape(-1, 1)\n",
        "\n",
        "# A = np.array([[1, 3, -2, 4], [0, 5, 0, 1], [0, 0, 3, 0], [0, 0, 0, 2]])\n",
        "# b = np.array([3, 2, 4, 1]).reshape(-1, 1)\n",
        "\n",
        "A = np.array([[1, 3, -2, 4, 8], [1, 5, 0, 1, 8], [7, 7, 3, 0, 8], [5, 5, 7, 2, 8], [1, 2, 3, 2, 8]])\n",
        "b = np.array([3, 2, 4, 1, 7]).reshape(-1, 1)\n",
        "\n",
        "matrix = GaussMethod(A, b)\n",
        "print(matrix._get_triangle_matrix())\n",
        "print(matrix.gauss_reverse())\n",
        ""
      ]
    }
  ],
  "metadata": {
    "kernelspec": {
      "display_name": "Python 3 (ipykernel)",
      "language": "python",
      "name": "python3"
    },
    "language_info": {
      "codemirror_mode": {
        "name": "ipython",
        "version": 3
      },
      "file_extension": ".py",
      "mimetype": "text/x-python",
      "name": "python",
      "nbconvert_exporter": "python",
      "pygments_lexer": "ipython3",
      "version": "3.9.7"
    },
    "colab": {
      "provenance": [],
      "toc_visible": true,
      "include_colab_link": true
    }
  },
  "nbformat": 4,
  "nbformat_minor": 5
}