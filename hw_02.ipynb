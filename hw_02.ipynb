{
  "cells": [
    {
      "cell_type": "markdown",
      "metadata": {
        "id": "view-in-github",
        "colab_type": "text"
      },
      "source": [
        "<a href=\"https://colab.research.google.com/github/arukaff/Math/blob/main/hw_02.ipynb\" target=\"_parent\"><img src=\"https://colab.research.google.com/assets/colab-badge.svg\" alt=\"Open In Colab\"/></a>"
      ]
    },
    {
      "cell_type": "markdown",
      "id": "177203c2",
      "metadata": {
        "id": "177203c2"
      },
      "source": [
        "# Урок 2"
      ]
    },
    {
      "cell_type": "markdown",
      "id": "c4a5e6e4",
      "metadata": {
        "id": "c4a5e6e4"
      },
      "source": [
        "# Линейное пространство. Основные понятия. Часть 1"
      ]
    },
    {
      "cell_type": "code",
      "execution_count": 1,
      "id": "f1ad4a48",
      "metadata": {
        "id": "f1ad4a48"
      },
      "outputs": [],
      "source": [
        "import numpy as np\n",
        "from numpy.linalg import norm\n",
        "from math import acos, pi"
      ]
    },
    {
      "cell_type": "markdown",
      "id": "e73a08ed",
      "metadata": {
        "id": "e73a08ed"
      },
      "source": [
        "## Практическое задание. Часть 1"
      ]
    },
    {
      "cell_type": "markdown",
      "id": "6c1920ab",
      "metadata": {
        "id": "6c1920ab"
      },
      "source": [
        "__1.__ Исследуйте на линейную зависимость:\n",
        "\n",
        "$$f_{1}(x)=e^{x}, f_{2}(x)=1, f_{3}(x)=x+1, f_{4}(x)=x-e^{x}.$$\n"
      ]
    },
    {
      "cell_type": "markdown",
      "id": "93b89925",
      "metadata": {
        "id": "93b89925"
      },
      "source": [
        "__1.__ Решение:\n",
        "\n",
        "Заметим, что\n",
        "$$ 1 * (e^{x}) + 1 * (1) + (-1) * (x + 1) + 1 * (x - e^{x}) = 0$$\n",
        "\n",
        "То есть\n",
        "$$ 1 * f_{1}(x) + 1 * f_{2}(x) + (-1) *  f_{3}(x) + 1 *  f_{4}(x) = 0$$\n",
        "\n",
        "Что означает, что функции линейно зависимы."
      ]
    },
    {
      "cell_type": "markdown",
      "id": "8904d36d",
      "metadata": {
        "id": "8904d36d"
      },
      "source": [
        "__2.__ Исследуйте на линейную зависимость:\n",
        "$$f_{1}(x)=2, f_{2}(x)=x, f_{3}(x)=x^{2}, f_{4}(x)=(x+1)^{2}$$"
      ]
    },
    {
      "cell_type": "markdown",
      "id": "5b22a36f",
      "metadata": {
        "id": "5b22a36f"
      },
      "source": [
        "__2.__ Решение:\n",
        "\n",
        "Заметим, что\n",
        "$$ (x + 1)^2 = 1 * x^2 + 2 * x + 0.5 * 2$$\n",
        "\n",
        "То есть\n",
        "$$f_{4}(x) = 1 * f_{3}(x) + 2 * f_{2}(x) + 0.5 * f_{1}(x)$$\n",
        "\n",
        "Что означает, что функции линейно зависимы.\n"
      ]
    },
    {
      "cell_type": "markdown",
      "id": "44a20b04",
      "metadata": {
        "id": "44a20b04"
      },
      "source": [
        "__3.__ Найдите координаты вектора $x = (2, 3, 5)\\in \\mathbb{R}^{3}$ в базисе $b_{1}=(0, 0, 10)$, $b_{2}=(2, 0, 0)$, $b_{3}=(0, 1, 0)$."
      ]
    },
    {
      "cell_type": "markdown",
      "id": "b3657106",
      "metadata": {
        "id": "b3657106"
      },
      "source": [
        "__3.__ Решение:\n",
        "\n",
        "Совокупность $n$ линейно независимых векторов линейного пространства $V$ будет называться _базисом_ этого пространства, если для каждого элемента $u$ пространства $V$ найдутся такие вещественные числа $\\xi_{1},\\xi_{2}. . . , \\xi_{n}$, что справедливо равенство:\n",
        "\n",
        "$$u = \\xi_{1}e_{1} + \\xi_{2}e_{2} + . . . + \\xi_{n}e_{n}.$$\n",
        "\n",
        "Коэффициенты $\\xi_{i}$ в этом выражении называются _координатами_ вектора $u$ в базисе $e_{1}  . . . , e_{n}$, а само такое представление вектора $u$ — _разложением этого вектора по базису_.\n",
        "\n",
        "$$x = 0.5b_{1} + 1b_{2} + 3b_{3}$$\n",
        "**Ответ**:  $x = (0.5, 1, 3)$ -  координаты вектора $x = (2, 3, 5)$ в базисе $b_{1}=(0, 0, 10)$, $b_{2}=(2, 0, 0)$, $b_{3}=(0, 1, 0)$\n"
      ]
    },
    {
      "cell_type": "markdown",
      "id": "76390b8d",
      "metadata": {
        "id": "76390b8d"
      },
      "source": [
        "__4.__ Найдите координаты вектора $3x^{2}-2x+2\\in\\mathbb{R}^{3}[x]$:\n",
        "\n",
        "а) в базисе $1$, $x$, $x^{2}$;\n",
        "\n",
        "б) в базисе $x^{2}$, $x-1$, $1$."
      ]
    },
    {
      "cell_type": "markdown",
      "id": "6d15e69b",
      "metadata": {
        "id": "6d15e69b"
      },
      "source": [
        "__4.__ Решение. Найдите координаты вектора $3x^{2}-2x+2\\in\\mathbb{R}^{3}[x]$:\n",
        "\n",
        "а) в базисе $1$, $x$, $x^{2}$;\n",
        "\n",
        "$$u = \\xi_{1}e_{1} + \\xi_{2}e_{2} + . . . + \\xi_{n}e_{n}.$$\n",
        "\n",
        "$$e_{1} = 1$$\n",
        "$$e_{2} = x$$\n",
        "$$e_{3} = x^2$$\n",
        "\n",
        "Разложим данный вектор по базису:\n",
        "$$3x^{2}-2x+2 = 3 * e_{3} + (-2) * e_{2} + 2* e_{1}.$$\n",
        "**Ответ**: $(2, -2, 3)$ координаты вектора $3x^{2}-2x+2$ в базисе $1$, $x$, $x^{2}$"
      ]
    },
    {
      "cell_type": "markdown",
      "id": "383087b9",
      "metadata": {
        "id": "383087b9"
      },
      "source": [
        "б) в базисе $x^{2}$, $x-1$, $1$.\n",
        "\n",
        "$$u = \\xi_{1}e_{1} + \\xi_{2}e_{2} + . . . + \\xi_{n}e_{n}.$$\n",
        "\n",
        "$$e_{1} = x^2$$\n",
        "$$e_{2} = x - 1$$\n",
        "$$e_{3} = 1$$\n",
        "\n",
        "Разложим данный вектор по базису:\n",
        "$$3x^{2}-2x+2 = 3 * e_{1} + (-2) * e_{2} + 0* e_{3}.$$\n",
        "**Ответ**: $(3, -2, 0)$ координаты вектора $3x^{2}-2x+2$ в базисе $x^{2}$, $x-1$, $1$"
      ]
    },
    {
      "cell_type": "markdown",
      "id": "824a81d5",
      "metadata": {
        "id": "824a81d5"
      },
      "source": [
        "__5.__ Установите, считается ли линейным подпространством:\n",
        "\n",
        "а) совокупность всех векторов трёхмерного пространства, у которых по крайней мере одна из первых двух координат равна нулю;\n",
        "    \n",
        "б) все векторы, считающиеся линейными комбинациями данных векторов $\\{u_{1}, u_{2} \\ldots, u_{n}\\}$."
      ]
    },
    {
      "cell_type": "markdown",
      "id": "d820fa86",
      "metadata": {
        "id": "d820fa86"
      },
      "source": [
        "__5.__ Решение:\n",
        "\n",
        "а) совокупность всех векторов трёхмерного пространства, у которых по крайней мере одна из первых двух координат равна нулю;\n",
        "\n",
        "то есть это ветора типа **(0, y, z) и (x, 0, z)**.\n",
        "\n",
        "Подмножество $L$ линейного пространства $V$ считается его подпространством только тогда, когда для любых элементов $u, v\\in L$ и любого $\\alpha \\in \\mathbb{R}$ выполняются условия:\n",
        "\n",
        "$$1)\\ u+v\\in L;$$\n",
        "\n",
        "$$2)\\ \\alpha\\cdot u \\in L.$$\n",
        "\n",
        "Проверим выполнение этих условий.\n",
        "\n",
        "1. Сложение\n",
        "\n",
        "(0, y1, z1) + (x2, 0, z2) = (x2, y1, z1+z2).\n",
        "\n",
        "Получившийся вектор (x2, y1, z1+z2) уже не входит в группу векторов типа (0, y, z) и (x, 0, z).\n",
        "\n",
        "2. Умножение\n",
        "\n",
        "$(0, y_1, z_1) * \\alpha  = (0, y_1*\\alpha, z_1*\\alpha)$\n",
        "\n",
        "$(x_2, 0, z_2) * \\alpha  = (x_2*\\alpha, 0, z_2*\\alpha)$\n",
        "\n",
        "Получившиеся вектора входят в группу векторов типа (0, y, z) и (x, 0, z).\n",
        "\n",
        "**Ответ**: совокупность всех векторов трёхмерного пространства, у которых по крайней мере одна из первых двух координат равна нулю НЕ считается линейным подпространством, так как не выполняется условие замкнутости по сложению.\n"
      ]
    },
    {
      "cell_type": "markdown",
      "id": "e807ee37",
      "metadata": {
        "id": "e807ee37"
      },
      "source": [
        "б) все векторы, считающиеся линейными комбинациями данных векторов $\\{u_{1}, u_{2} \\ldots, u_{n}\\}$.\n",
        "\n",
        "Да, так как сложение и умножение, относительно которых должно быть замкнуто линейное подпространство, относится к линейным комбинациям над данными векторами.\n",
        "\n",
        "**Более формальное решение:**\n",
        "\n",
        "Любой вектор множества можно представить в виде $$\\sum_{t=1}^{n}\\lambda_{t}u_{t}$$\n",
        "Сумма двух векторов: $$\\sum_{t=1}^{n}\\alpha_{t}u_{t} + \\sum_{t=1}^{n}\\beta_{t}u_{t} = \\sum_{t=1}^{n}(\\alpha_{t} + \\beta_{t})u_{t} =\\sum_{t=1}^{n}\\lambda_{t}u_{t} $$\n",
        "Произведение вектора на число: $$\\alpha \\cdot \\sum_{t=1}^{n}\\lambda_{t}u_{t} = \\sum_{t=1}^{n}\\alpha \\cdot \\lambda_{t}u_{t} = \\sum_{t=1}^{n}\\beta_{t}u_{t}$$\n",
        "\n",
        "Т.к. полученные вектора принадлежат указанному множеству, поэтому указанное множество векторов является линейным подпространством.\n",
        "\n",
        "**Ответ**: все векторы, считающиеся линейными комбинациями данных векторов $\\{u_{1}, u_{2} \\ldots, u_{n}\\}$ считается линейным подпространством.\n"
      ]
    },
    {
      "cell_type": "markdown",
      "id": "620ee3f9",
      "metadata": {
        "id": "620ee3f9"
      },
      "source": [
        "## Практическое задание. Часть 2."
      ]
    },
    {
      "cell_type": "markdown",
      "id": "59da6991",
      "metadata": {
        "id": "59da6991"
      },
      "source": [
        "__1.__ Найдите скалярное произведение векторов $x, y \\in \\mathbb{R}$:<br>\n",
        "а) $x=(0,-3, 6),~y=(-4, 7, 9);$<br>\n",
        "б) $x=(7, -4, 0, 1),~y=(-3, 1, 11, 2).$"
      ]
    },
    {
      "cell_type": "markdown",
      "id": "9bd19f92",
      "metadata": {
        "id": "9bd19f92"
      },
      "source": [
        "__1.__ Решение:\n",
        "а) $x=(0,-3, 6),~y=(-4, 7, 9);$<br>"
      ]
    },
    {
      "cell_type": "code",
      "execution_count": 2,
      "id": "52f33709",
      "metadata": {
        "id": "52f33709",
        "outputId": "41b18c78-ca24-41b4-e984-415fd7753a4d",
        "colab": {
          "base_uri": "https://localhost:8080/"
        }
      },
      "outputs": [
        {
          "output_type": "execute_result",
          "data": {
            "text/plain": [
              "33"
            ]
          },
          "metadata": {},
          "execution_count": 2
        }
      ],
      "source": [
        "res = 0 * (-4) + (-3) * 7 + 6 * 9\n",
        "res"
      ]
    },
    {
      "cell_type": "code",
      "execution_count": 3,
      "id": "c8eb14a2",
      "metadata": {
        "id": "c8eb14a2",
        "outputId": "a346e45e-5eff-44fd-b1ee-672acce4a910",
        "colab": {
          "base_uri": "https://localhost:8080/"
        }
      },
      "outputs": [
        {
          "output_type": "execute_result",
          "data": {
            "text/plain": [
              "array([ 0, -3,  6])"
            ]
          },
          "metadata": {},
          "execution_count": 3
        }
      ],
      "source": [
        "x = np.array([0,-3, 6])\n",
        "x"
      ]
    },
    {
      "cell_type": "code",
      "execution_count": 4,
      "id": "2616b110",
      "metadata": {
        "id": "2616b110",
        "outputId": "d5c79c16-1a82-40d4-93ac-a3a9fbcaf685",
        "colab": {
          "base_uri": "https://localhost:8080/"
        }
      },
      "outputs": [
        {
          "output_type": "execute_result",
          "data": {
            "text/plain": [
              "array([-4,  7,  9])"
            ]
          },
          "metadata": {},
          "execution_count": 4
        }
      ],
      "source": [
        "y = np.array([-4, 7, 9])\n",
        "y"
      ]
    },
    {
      "cell_type": "code",
      "execution_count": 5,
      "id": "4bc489fa",
      "metadata": {
        "id": "4bc489fa",
        "outputId": "fcbfe2c2-ea99-4867-974f-15fefdb30bc6",
        "colab": {
          "base_uri": "https://localhost:8080/"
        }
      },
      "outputs": [
        {
          "output_type": "execute_result",
          "data": {
            "text/plain": [
              "33"
            ]
          },
          "metadata": {},
          "execution_count": 5
        }
      ],
      "source": [
        "np.dot(x, y)"
      ]
    },
    {
      "cell_type": "markdown",
      "id": "f5911f49",
      "metadata": {
        "id": "f5911f49"
      },
      "source": [
        "б) $x=(7, -4, 0, 1),~y=(-3, 1, 11, 2).$"
      ]
    },
    {
      "cell_type": "code",
      "execution_count": 6,
      "id": "1f3420e8",
      "metadata": {
        "id": "1f3420e8",
        "outputId": "e31c1278-3910-49a4-9aa5-2f6b00d2431a",
        "colab": {
          "base_uri": "https://localhost:8080/"
        }
      },
      "outputs": [
        {
          "output_type": "execute_result",
          "data": {
            "text/plain": [
              "-23"
            ]
          },
          "metadata": {},
          "execution_count": 6
        }
      ],
      "source": [
        "res_b  = 7 * (-3) + (-4) * 1 + 0 * 11 + 1 * 2\n",
        "res_b"
      ]
    },
    {
      "cell_type": "code",
      "execution_count": 7,
      "id": "0007d2b5",
      "metadata": {
        "id": "0007d2b5",
        "outputId": "59a55677-c249-41c1-f859-e96b35493af7",
        "colab": {
          "base_uri": "https://localhost:8080/"
        }
      },
      "outputs": [
        {
          "output_type": "execute_result",
          "data": {
            "text/plain": [
              "array([ 7, -4,  0,  1])"
            ]
          },
          "metadata": {},
          "execution_count": 7
        }
      ],
      "source": [
        "x_b = np.array([7, -4, 0, 1])\n",
        "x_b"
      ]
    },
    {
      "cell_type": "code",
      "execution_count": 8,
      "id": "5bf77d87",
      "metadata": {
        "id": "5bf77d87",
        "outputId": "2ac41394-2ff2-4b1d-a3ed-8eddb1d5bc7f",
        "colab": {
          "base_uri": "https://localhost:8080/"
        }
      },
      "outputs": [
        {
          "output_type": "execute_result",
          "data": {
            "text/plain": [
              "array([-3,  1, 11,  2])"
            ]
          },
          "metadata": {},
          "execution_count": 8
        }
      ],
      "source": [
        "y_b = np.array([-3, 1, 11, 2])\n",
        "y_b"
      ]
    },
    {
      "cell_type": "code",
      "execution_count": 9,
      "id": "b61e45b9",
      "metadata": {
        "id": "b61e45b9",
        "outputId": "396eef22-3248-49d8-8796-fb046f57f480",
        "colab": {
          "base_uri": "https://localhost:8080/"
        }
      },
      "outputs": [
        {
          "output_type": "execute_result",
          "data": {
            "text/plain": [
              "-23"
            ]
          },
          "metadata": {},
          "execution_count": 9
        }
      ],
      "source": [
        "np.dot(x_b, y_b)"
      ]
    },
    {
      "cell_type": "markdown",
      "id": "bf043e85",
      "metadata": {
        "id": "bf043e85"
      },
      "source": [
        "__2.__ Найдите нормы векторов $(4, 2, 4)$ и $(12, 3, 4)$ и угол между ними."
      ]
    },
    {
      "cell_type": "markdown",
      "id": "07d643cc",
      "metadata": {
        "id": "07d643cc"
      },
      "source": [
        "__2.__ Решение:\n",
        "\n",
        "Найдем эти варианты норм:\n",
        "\n",
        "- при $p = 1$ получаем $\\ell_{1}$ норму — _манхэттенская норма_, или _манхэттенское расстояние_:\n",
        "\n",
        "$$\\left\\|x\\right\\|_{1} = \\sum_{i}|x_{i}|;$$\n",
        "\n",
        "- при $p = 2$ получаем $\\ell_{2}$ норму — _евклидова норма_, часто используемая:\n",
        "\n",
        "$$\\left\\|x\\right\\|_{2} = \\sqrt{\\sum_{i}|x_{i}|^{2}}.$$\n",
        "\n",
        "Косинус угла будем находить по формуле:\n",
        "\n",
        "В любом вещественном евклидовом пространстве можно ввести понятие _угла_ между двумя произвольными элементами $x$ и $y$. Углом $\\varphi \\in [0, \\pi]$ между этими элементами назовём угол, косинус которого определяется соотношением:\n",
        "\n",
        "$$cos\\varphi = \\frac{(x,y)}{\\left \\|x\\right \\|\\cdot\\left \\|y\\right \\|}.$$"
      ]
    },
    {
      "cell_type": "code",
      "execution_count": 10,
      "id": "08a4fc81",
      "metadata": {
        "id": "08a4fc81",
        "outputId": "2d5db336-16ba-4622-f90c-d60180f210a1",
        "colab": {
          "base_uri": "https://localhost:8080/"
        }
      },
      "outputs": [
        {
          "output_type": "execute_result",
          "data": {
            "text/plain": [
              "10"
            ]
          },
          "metadata": {},
          "execution_count": 10
        }
      ],
      "source": [
        "#вручную\n",
        "#манхэттенское расстояние\n",
        "\n",
        "norm_x1 = 4 + 2 + 4\n",
        "norm_x1"
      ]
    },
    {
      "cell_type": "code",
      "execution_count": 11,
      "id": "3a9a0219",
      "metadata": {
        "id": "3a9a0219",
        "outputId": "ebbe8f49-cc86-4340-f5e0-03827371094a",
        "colab": {
          "base_uri": "https://localhost:8080/"
        }
      },
      "outputs": [
        {
          "output_type": "execute_result",
          "data": {
            "text/plain": [
              "19"
            ]
          },
          "metadata": {},
          "execution_count": 11
        }
      ],
      "source": [
        "norm_x2 = 12 + 3 + 4\n",
        "norm_x2"
      ]
    },
    {
      "cell_type": "code",
      "execution_count": 12,
      "id": "30583398",
      "metadata": {
        "id": "30583398",
        "outputId": "5984d9a7-257a-41f9-91af-079f556f383f",
        "colab": {
          "base_uri": "https://localhost:8080/"
        }
      },
      "outputs": [
        {
          "output_type": "execute_result",
          "data": {
            "text/plain": [
              "6.0"
            ]
          },
          "metadata": {},
          "execution_count": 12
        }
      ],
      "source": [
        "#евклидова норма\n",
        "norm_ev_x1 = np.sqrt(4 ** 2 + 2 ** 2 + 4 ** 2)\n",
        "norm_ev_x1"
      ]
    },
    {
      "cell_type": "code",
      "execution_count": 13,
      "id": "b4b51a07",
      "metadata": {
        "id": "b4b51a07",
        "outputId": "23d01b9c-e922-47c8-f09e-d3b7c2452e63",
        "colab": {
          "base_uri": "https://localhost:8080/"
        }
      },
      "outputs": [
        {
          "output_type": "execute_result",
          "data": {
            "text/plain": [
              "13.0"
            ]
          },
          "metadata": {},
          "execution_count": 13
        }
      ],
      "source": [
        "norm_ev_x2 = np.sqrt(12 ** 2 + 3 ** 2 + 4 ** 2)\n",
        "norm_ev_x2"
      ]
    },
    {
      "cell_type": "code",
      "execution_count": 14,
      "id": "de522790",
      "metadata": {
        "id": "de522790",
        "outputId": "7b02ed4c-ccfc-4905-abcc-9690e4779acb",
        "colab": {
          "base_uri": "https://localhost:8080/"
        }
      },
      "outputs": [
        {
          "output_type": "execute_result",
          "data": {
            "text/plain": [
              "(array([4, 2, 4]), array([12,  3,  4]))"
            ]
          },
          "metadata": {},
          "execution_count": 14
        }
      ],
      "source": [
        "#c помощью norm\n",
        "\n",
        "x1 = np.array([4, 2, 4])\n",
        "\n",
        "x2 = np.array([12, 3, 4])\n",
        "\n",
        "x1, x2"
      ]
    },
    {
      "cell_type": "code",
      "execution_count": 15,
      "id": "e1db189b",
      "metadata": {
        "id": "e1db189b",
        "outputId": "3d5404b5-0549-4b4c-fbd6-0b6e84cedfac",
        "colab": {
          "base_uri": "https://localhost:8080/"
        }
      },
      "outputs": [
        {
          "output_type": "stream",
          "name": "stdout",
          "text": [
            "Манхэттенская норма вектора x1:\n",
            "10.0\n"
          ]
        }
      ],
      "source": [
        "print(f'Манхэттенская норма вектора x1:\\n{norm(x1, ord=1)}')"
      ]
    },
    {
      "cell_type": "code",
      "execution_count": 16,
      "id": "9f02b1fe",
      "metadata": {
        "id": "9f02b1fe",
        "outputId": "ce27b76b-a600-4669-e950-050692837cc1",
        "colab": {
          "base_uri": "https://localhost:8080/"
        }
      },
      "outputs": [
        {
          "output_type": "stream",
          "name": "stdout",
          "text": [
            "Манхэттенская норма вектора x2:\n",
            "19.0\n"
          ]
        }
      ],
      "source": [
        "print(f'Манхэттенская норма вектора x2:\\n{norm(x2, ord=1)}')"
      ]
    },
    {
      "cell_type": "code",
      "execution_count": 17,
      "id": "add1a8d8",
      "metadata": {
        "id": "add1a8d8",
        "outputId": "91bf727b-20ae-4a8d-f3c3-9046c269dfce",
        "colab": {
          "base_uri": "https://localhost:8080/"
        }
      },
      "outputs": [
        {
          "output_type": "stream",
          "name": "stdout",
          "text": [
            "Евклидова норма вектора x1:\n",
            "6.0\n"
          ]
        }
      ],
      "source": [
        "print(f'Евклидова норма вектора x1:\\n{norm(x1, ord=2)}')"
      ]
    },
    {
      "cell_type": "code",
      "execution_count": 18,
      "id": "b344396b",
      "metadata": {
        "id": "b344396b",
        "outputId": "85bd6c3d-2537-4771-e3b9-a495fe8c7f4d",
        "colab": {
          "base_uri": "https://localhost:8080/"
        }
      },
      "outputs": [
        {
          "output_type": "stream",
          "name": "stdout",
          "text": [
            "Евклидова норма вектора x2:\n",
            "13.0\n"
          ]
        }
      ],
      "source": [
        "print(f'Евклидова норма вектора x2:\\n{norm(x2, ord=2)}')"
      ]
    },
    {
      "cell_type": "code",
      "execution_count": 19,
      "id": "53ec7f07",
      "metadata": {
        "id": "53ec7f07",
        "outputId": "85695a37-7335-49ed-c4b9-fcaea6d00a20",
        "colab": {
          "base_uri": "https://localhost:8080/"
        }
      },
      "outputs": [
        {
          "output_type": "execute_result",
          "data": {
            "text/plain": [
              "0.8974358974358974"
            ]
          },
          "metadata": {},
          "execution_count": 19
        }
      ],
      "source": [
        "cos_phi = np.dot(x1, x2) / norm(x1) / norm(x2)\n",
        "cos_phi"
      ]
    },
    {
      "cell_type": "markdown",
      "id": "369b786f",
      "metadata": {
        "id": "369b786f"
      },
      "source": [
        "Пересчитаем вручную:\n",
        "    \n",
        "    \n",
        "$$cos\\varphi = \\frac{(x,y)}{\\left \\|x\\right \\|\\cdot\\left \\|y\\right \\|}.$$"
      ]
    },
    {
      "cell_type": "code",
      "execution_count": 21,
      "id": "a0487bde",
      "metadata": {
        "id": "a0487bde",
        "outputId": "c4ee83bc-2c5c-496c-a446-c59135bad7f9",
        "colab": {
          "base_uri": "https://localhost:8080/"
        }
      },
      "outputs": [
        {
          "output_type": "execute_result",
          "data": {
            "text/plain": [
              "0.8974358974358975"
            ]
          },
          "metadata": {},
          "execution_count": 21
        }
      ],
      "source": [
        "cos_phi_1 = (4 * 12 + 2 * 3 + 4 * 4) / (norm_ev_x1 * norm_ev_x2)\n",
        "cos_phi_1"
      ]
    },
    {
      "cell_type": "code",
      "execution_count": 22,
      "id": "36fe6106",
      "metadata": {
        "id": "36fe6106",
        "outputId": "7a97e8ca-3403-4df0-a5ad-ee4069e98e4e",
        "colab": {
          "base_uri": "https://localhost:8080/"
        }
      },
      "outputs": [
        {
          "output_type": "stream",
          "name": "stdout",
          "text": [
            "Косинус угла между векторами 0.90\n",
            "Угол в радианах 0.46\n",
            "Угол в градусах 26.18\n"
          ]
        }
      ],
      "source": [
        "print(f'Косинус угла между векторами {cos_phi:.2f}')\n",
        "print(f'Угол в радианах {acos(cos_phi_1):.2f}')\n",
        "print(f'Угол в градусах {(acos(cos_phi_1) * 180) / pi :.2f}')"
      ]
    },
    {
      "cell_type": "markdown",
      "id": "5b910430",
      "metadata": {
        "id": "5b910430"
      },
      "source": [
        "__3.__ Определите, будет ли линейное пространство евклидовым, если за скалярное произведение принять:<br>\n",
        "а) произведение длин векторов;<br>\n",
        "б) утроенное обычное скалярное произведение векторов?<br>"
      ]
    },
    {
      "cell_type": "markdown",
      "id": "69842701",
      "metadata": {
        "id": "69842701"
      },
      "source": [
        "__3__ Решение:\n",
        "\n",
        "__Определение__\n",
        "\n",
        "Линейное пространство над полем вещественных чисел называется _евклидовым пространством_, если на нём введено правило, согласно которому каждой упорядоченной паре векторов $x$ и $y$ поставлено в соответствие вещественное число, называемое _скалярным произведением_ и обозначаемое символом $(x, y)$.\n",
        "\n",
        "Указанное правило должно подчиняться четырём аксиомам:<br>\n",
        "1) $(x,y)=(y,x).$<br>\n",
        "2) $(\\lambda x, y)=\\lambda(x, y).$<br>\n",
        "3) $(x_{1}+x_{2},y)=(x_{1},y)+(x_{2},y).$<br>\n",
        "4) $(x, x)\\geq0$, причём $(x,x)=0\\Leftrightarrow x=0.$\n"
      ]
    },
    {
      "cell_type": "markdown",
      "id": "0b81737b",
      "metadata": {
        "id": "0b81737b"
      },
      "source": [
        "а) произведение длин векторов;<br>\n",
        "\n",
        "Чаще всего длина вектора находится по Евклидовой норме.\n",
        "\n",
        "$$\\left\\|x\\right\\|_{2} = \\sqrt{\\sum_{i}|x_{i}|^{2}}.$$\n",
        "\n",
        "Проверим на соответствие правилам.\n",
        "1) $(x,y)=(y,x).- соответствует$<br>\n",
        "2) $(\\lambda x, y)=\\lambda(x, y). - соответствует$<br>\n",
        "3) $(x_{1}+x_{2},y)=(x_{1},y)+(x_{2},y). - соответствует$<br>\n",
        "4) $(x, x)\\geq0$, причём $(x,x)=0\\Leftrightarrow x=0. - соответствует$"
      ]
    },
    {
      "cell_type": "markdown",
      "id": "2d4e7c56",
      "metadata": {
        "id": "2d4e7c56"
      },
      "source": [
        "**Ответ**: линейное пространство будет евклидовым."
      ]
    },
    {
      "cell_type": "markdown",
      "id": "42b59ef2",
      "metadata": {
        "id": "42b59ef2"
      },
      "source": [
        "б) утроенное обычное скалярное произведение векторов?<br>"
      ]
    },
    {
      "cell_type": "markdown",
      "id": "1404ae7a",
      "metadata": {
        "id": "1404ae7a"
      },
      "source": [
        "**Ответ**: линейное пространство будет евклидовым, так как тоже соответствует всем правилам."
      ]
    },
    {
      "cell_type": "markdown",
      "id": "09ebe75e",
      "metadata": {
        "id": "09ebe75e"
      },
      "source": [
        "__4.__ Выясните, какие из нижеперечисленных векторов образуют ортонормированный базис в линейном пространстве $\\mathbb{R}^{3}$:<br>\n",
        "а) $(1,0,0),(0,0,1);$ <br>\n",
        "б) $(1/\\sqrt{2},-1/\\sqrt{2},0),(1/\\sqrt{2},1/\\sqrt{2},0), (0,0,1);$<br>\n",
        "в) $(1/2, -1/2, 0), (0, 1/2, 1/2), (0,0,1);$<br>\n",
        "г) $(1,0,0),(0,1,0),(0,0,1)?$"
      ]
    },
    {
      "cell_type": "markdown",
      "id": "3a6b54f2",
      "metadata": {
        "id": "3a6b54f2"
      },
      "source": [
        "__4.__ Решение\n",
        "\n",
        "\n",
        "__Определение.__ В конечномерном евклидовом пространстве базис $\\{e_{1},e_{2}...,e_{n}\\}$ называется ортонормированным, если:\n",
        "\n",
        "$(e_{i}, e_{j})=0$ $\\forall$ $i\\neq j$ и $(e_{i},e_{i})=1$ $\\forall$ $i\\in[1, n].$"
      ]
    },
    {
      "cell_type": "markdown",
      "id": "7b64edcd",
      "metadata": {
        "id": "7b64edcd"
      },
      "source": [
        "а) $(1,0,0),(0,0,1);$ <br>"
      ]
    },
    {
      "cell_type": "markdown",
      "id": "7d9e9440",
      "metadata": {
        "id": "7d9e9440"
      },
      "source": [
        "Два вектора не могут образовать базис в трехмерном пространстве; существует множество векторов, перпендикулярных обоим данным векторам (например, $(0, 1, 0)$), который мы не сможем выразить через сумму данных базисных векторов, что противоречит определению базиса."
      ]
    },
    {
      "cell_type": "markdown",
      "id": "58a90080",
      "metadata": {
        "id": "58a90080"
      },
      "source": [
        "б) $(1/\\sqrt{2},-1/\\sqrt{2},0),(1/\\sqrt{2},1/\\sqrt{2},0), (0,0,1);$<br>"
      ]
    },
    {
      "cell_type": "code",
      "execution_count": 23,
      "id": "b3cb6914",
      "metadata": {
        "id": "b3cb6914"
      },
      "outputs": [],
      "source": [
        "b1 = np.array([1 / np.sqrt(2), - 1 / np.sqrt(2), 0])\n",
        "\n",
        "b2 = np.array([1 / np.sqrt(2), 1 / np.sqrt(2), 0])\n",
        "\n",
        "b3 = np.array([0, 0, 1])"
      ]
    },
    {
      "cell_type": "code",
      "execution_count": 24,
      "id": "83751de3",
      "metadata": {
        "id": "83751de3",
        "outputId": "7552bf98-1dd3-4b70-d67c-2d3fe470e2ca",
        "colab": {
          "base_uri": "https://localhost:8080/"
        }
      },
      "outputs": [
        {
          "output_type": "execute_result",
          "data": {
            "text/plain": [
              "0.0"
            ]
          },
          "metadata": {},
          "execution_count": 24
        }
      ],
      "source": [
        "np.dot(b1, b2)"
      ]
    },
    {
      "cell_type": "code",
      "execution_count": 25,
      "id": "631e4dad",
      "metadata": {
        "id": "631e4dad",
        "outputId": "be9b8615-070b-413f-e5df-1ca9c06f8cff",
        "colab": {
          "base_uri": "https://localhost:8080/"
        }
      },
      "outputs": [
        {
          "output_type": "execute_result",
          "data": {
            "text/plain": [
              "0.0"
            ]
          },
          "metadata": {},
          "execution_count": 25
        }
      ],
      "source": [
        "np.dot(b1, b3)"
      ]
    },
    {
      "cell_type": "code",
      "execution_count": 26,
      "id": "982e1078",
      "metadata": {
        "id": "982e1078",
        "outputId": "ba9853c3-33d9-424c-b61f-8787df23b711",
        "colab": {
          "base_uri": "https://localhost:8080/"
        }
      },
      "outputs": [
        {
          "output_type": "execute_result",
          "data": {
            "text/plain": [
              "0.0"
            ]
          },
          "metadata": {},
          "execution_count": 26
        }
      ],
      "source": [
        "np.dot(b2, b3)"
      ]
    },
    {
      "cell_type": "code",
      "execution_count": 27,
      "id": "724c202a",
      "metadata": {
        "id": "724c202a",
        "outputId": "c92197a8-d81f-41fc-f309-b445afe88de8",
        "colab": {
          "base_uri": "https://localhost:8080/"
        }
      },
      "outputs": [
        {
          "output_type": "stream",
          "name": "stdout",
          "text": [
            "1.0, 1.0, 1.0\n"
          ]
        }
      ],
      "source": [
        "print(f'{norm(b1):.1f}, {norm(b2):.1f}, {norm(b3):.1f}')"
      ]
    },
    {
      "cell_type": "markdown",
      "id": "8ab5f788",
      "metadata": {
        "id": "8ab5f788"
      },
      "source": [
        "**Ответ**: вектора $(1/\\sqrt{2},-1/\\sqrt{2},0),(1/\\sqrt{2},1/\\sqrt{2},0), (0,0,1)$ образуют ортонормированный базис."
      ]
    },
    {
      "cell_type": "markdown",
      "id": "1925a3c2",
      "metadata": {
        "id": "1925a3c2"
      },
      "source": [
        "в) $(1/2, -1/2, 0), (0, 1/2, 1/2), (0,0,1);$<br>"
      ]
    },
    {
      "cell_type": "code",
      "execution_count": 28,
      "id": "279e04c9",
      "metadata": {
        "id": "279e04c9"
      },
      "outputs": [],
      "source": [
        "v1 = np.array([1 / 2, - 1 / 2, 0])\n",
        "\n",
        "v2 = np.array([0, 1 / 2, 1 / 2])\n",
        "\n",
        "v3 = np.array([0, 0, 1])"
      ]
    },
    {
      "cell_type": "code",
      "execution_count": 29,
      "id": "aa395c0a",
      "metadata": {
        "id": "aa395c0a",
        "outputId": "00952f62-c7d1-4d02-e969-b26d64f99e3f",
        "colab": {
          "base_uri": "https://localhost:8080/"
        }
      },
      "outputs": [
        {
          "output_type": "execute_result",
          "data": {
            "text/plain": [
              "-0.25"
            ]
          },
          "metadata": {},
          "execution_count": 29
        }
      ],
      "source": [
        "np.dot(v1, v2)"
      ]
    },
    {
      "cell_type": "code",
      "execution_count": 30,
      "id": "6d37c12a",
      "metadata": {
        "id": "6d37c12a",
        "outputId": "5b0319bf-6142-4c28-eacc-a8e38bc2f1fb",
        "colab": {
          "base_uri": "https://localhost:8080/"
        }
      },
      "outputs": [
        {
          "output_type": "execute_result",
          "data": {
            "text/plain": [
              "0.0"
            ]
          },
          "metadata": {},
          "execution_count": 30
        }
      ],
      "source": [
        "np.dot(v1, v3)"
      ]
    },
    {
      "cell_type": "code",
      "execution_count": 31,
      "id": "0606ee70",
      "metadata": {
        "id": "0606ee70",
        "outputId": "3b49fb7c-127d-4d54-9345-b2526d0acf54",
        "colab": {
          "base_uri": "https://localhost:8080/"
        }
      },
      "outputs": [
        {
          "output_type": "execute_result",
          "data": {
            "text/plain": [
              "0.5"
            ]
          },
          "metadata": {},
          "execution_count": 31
        }
      ],
      "source": [
        "np.dot(v2, v3)"
      ]
    },
    {
      "cell_type": "code",
      "execution_count": 32,
      "id": "fbcab6c8",
      "metadata": {
        "id": "fbcab6c8",
        "outputId": "46aae600-4288-45ea-be69-6764ab212b62",
        "colab": {
          "base_uri": "https://localhost:8080/"
        }
      },
      "outputs": [
        {
          "output_type": "stream",
          "name": "stdout",
          "text": [
            "0.7, 0.7, 1.0\n"
          ]
        }
      ],
      "source": [
        "print(f'{norm(v1):.1f}, {norm(v2):.1f}, {norm(v3):.1f}')"
      ]
    },
    {
      "cell_type": "markdown",
      "id": "deecf9c9",
      "metadata": {
        "id": "deecf9c9"
      },
      "source": [
        "**Ответ**: не ортогональный, не ортонормированный базис"
      ]
    },
    {
      "cell_type": "markdown",
      "id": "058bd42e",
      "metadata": {
        "id": "058bd42e"
      },
      "source": [
        "г) $(1,0,0),(0,1,0),(0,0,1)?$"
      ]
    },
    {
      "cell_type": "code",
      "execution_count": 33,
      "id": "86d0f953",
      "metadata": {
        "id": "86d0f953"
      },
      "outputs": [],
      "source": [
        "g1 = np.array([1,0,0])\n",
        "\n",
        "g2 = np.array([0,1,0])\n",
        "\n",
        "g3 = np.array([0,0,1])"
      ]
    },
    {
      "cell_type": "code",
      "execution_count": 34,
      "id": "a3d97a5a",
      "metadata": {
        "id": "a3d97a5a",
        "outputId": "fdc1fb96-cc8a-417d-973f-8d240aa131e7",
        "colab": {
          "base_uri": "https://localhost:8080/"
        }
      },
      "outputs": [
        {
          "output_type": "execute_result",
          "data": {
            "text/plain": [
              "0"
            ]
          },
          "metadata": {},
          "execution_count": 34
        }
      ],
      "source": [
        "np.dot(g1, g2)"
      ]
    },
    {
      "cell_type": "code",
      "execution_count": 35,
      "id": "2babd70f",
      "metadata": {
        "id": "2babd70f",
        "outputId": "df9e0407-d4c9-415e-96e5-4b9f0b554b39",
        "colab": {
          "base_uri": "https://localhost:8080/"
        }
      },
      "outputs": [
        {
          "output_type": "execute_result",
          "data": {
            "text/plain": [
              "0"
            ]
          },
          "metadata": {},
          "execution_count": 35
        }
      ],
      "source": [
        "np.dot(g1, g3)"
      ]
    },
    {
      "cell_type": "code",
      "execution_count": 36,
      "id": "11a70eb1",
      "metadata": {
        "id": "11a70eb1",
        "outputId": "9a8e488d-2a52-4ea2-942a-174974c48df2",
        "colab": {
          "base_uri": "https://localhost:8080/"
        }
      },
      "outputs": [
        {
          "output_type": "execute_result",
          "data": {
            "text/plain": [
              "0"
            ]
          },
          "metadata": {},
          "execution_count": 36
        }
      ],
      "source": [
        "np.dot(g2, g3)"
      ]
    },
    {
      "cell_type": "code",
      "execution_count": 37,
      "id": "b7ab9350",
      "metadata": {
        "id": "b7ab9350",
        "outputId": "8780ec57-4d2f-4307-cc7f-02a4fe1e9a02",
        "colab": {
          "base_uri": "https://localhost:8080/"
        }
      },
      "outputs": [
        {
          "output_type": "stream",
          "name": "stdout",
          "text": [
            "1.0, 1.0, 1.0\n"
          ]
        }
      ],
      "source": [
        "print(f'{norm(g1):.1f}, {norm(g2):.1f}, {norm(g3):.1f}')"
      ]
    },
    {
      "cell_type": "markdown",
      "id": "924ef5fe",
      "metadata": {
        "id": "924ef5fe"
      },
      "source": [
        "**Ответ**: вектора $(1,0,0),(0,1,0),(0,0,1)$ образуют ортонормированный базис."
      ]
    }
  ],
  "metadata": {
    "kernelspec": {
      "display_name": "Python 3 (ipykernel)",
      "language": "python",
      "name": "python3"
    },
    "language_info": {
      "codemirror_mode": {
        "name": "ipython",
        "version": 3
      },
      "file_extension": ".py",
      "mimetype": "text/x-python",
      "name": "python",
      "nbconvert_exporter": "python",
      "pygments_lexer": "ipython3",
      "version": "3.9.7"
    },
    "colab": {
      "provenance": [],
      "toc_visible": true,
      "include_colab_link": true
    }
  },
  "nbformat": 4,
  "nbformat_minor": 5
}